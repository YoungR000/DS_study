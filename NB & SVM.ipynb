{
 "cells": [
  {
   "attachments": {},
   "cell_type": "markdown",
   "id": "17df8d0a",
   "metadata": {},
   "source": [
    "## 1) Naive Baysian \n",
    "\n",
    "* Naive (단순한) 의미 , Bayes' Theory (베이즈 정리) \n",
    "* Bayes's Theory : 사전확률에 의해 사후확률이 결정된다. 사후확률 P(A|B)  , 사전확률 P(A) - 초기 확률이 주관적 요소 , 새로운 정보와 근거를 통한 사전확률의 신뢰도를 높이는것 \n",
    "![NB02.png](NB/NB02.png)\n",
    " \n",
    "\n",
    " ![NB01.png](NB/NB01.png)  \n",
    " \n",
    "* ex) 스팸메일 분류  - P(spam) : 스팸메일일 확률 , P(word_A) : A단어가 있을 확률 P(word_B) : B단어가 있을 확률 \n",
    "      A단어 B단어 를 가질때 스팸일 확률 P(spam | word_A , word_B) -> 수십개의 단어를 가질때의 스팸메일일 \n",
    "      확률 P(spam | word_A ,... word_N) 등등을 일일히 모두 계산해서 sklearn 라이브러리 Threshold를 통해 분류 \n",
    "      \n",
    "* 주요 사용 사례  스팸메일 필터 , 텍스트 분류 , 감정분석 추천시스템등에 활용 "
   ]
  },
  {
   "cell_type": "markdown",
   "id": "5934a88c",
   "metadata": {},
   "source": [
    "## 베이즈 추정(Bayesian Estimation)\n",
    "\n",
    "* 추론대상의 사전 확률과 추가적인 정보를 기반으로 해당 대상의 사후 확률을 추론하는 통계적 방법\n",
    "\n",
    "* ex) A마을의 10.5 % 암 환자 , 89.5 % 암 환자(X)  \n",
    "     암 검사 시 , 양성/음성 판정  \n",
    "     암 검진 정확도는 암 환자 중 양성 판정 받은 비율 90.5 % , 암 환자 중 음성 판정 비율 9.5%\n",
    "     암 환자(X) - 양성 판정 20.4% , 음성 판정 79.6% \n",
    "    \n",
    "     1) 양성 판정 일때 , 암환자일 확률? \n",
    "     \n"
   ]
  },
  {
   "cell_type": "markdown",
   "id": "b91bc7f5",
   "metadata": {},
   "source": [
    "* P(C) = 0.105 (10.5 %)\n",
    "* P(Not C) = 0.895(89.5%)\n",
    "* P(P|C) = 0.905 (90.5%)\n",
    "* P(N|C) = 0.095 (9.5%)\n",
    "* P(P|Not C) = 0.204 (20.4%)\n",
    "* P(N|Not C) = 0.796 (79.6%)\n",
    "\n",
    "\n",
    "#### C : 암환자 / Not C : 암환자(X)   , P(양성반응) , N(음성반응)"
   ]
  },
  {
   "cell_type": "markdown",
   "id": "1a5754fc",
   "metadata": {},
   "source": [
    "### 양성판정을 받았을때 , 암환자일 확률?"
   ]
  },
  {
   "cell_type": "markdown",
   "id": "0182a535",
   "metadata": {},
   "source": [
    "#### P(C|P) = P(P|C) * P(C) / P(P) \n",
    "\n",
    "#### P(P) = P(P ∩ C) + P(P ∩ Not C)\n",
    "\n",
    "#### P(P ∩ C) = P(P|C) * P(C)  = 0.905 * 0.105\n",
    "\n",
    "#### P(P ∩ Not C) = P(P|Not C) * P(Not C) = 0.204 * 0.895 \n",
    "\n",
    "#### P(C|P) = 0.905 * 0.105 / (0.905 * 0.105 +0.204 * 0.895 )\n",
    "\n",
    "\n",
    "\n",
    "\n",
    "\n"
   ]
  },
  {
   "cell_type": "markdown",
   "id": "61676fbd",
   "metadata": {},
   "source": []
  },
  {
   "cell_type": "code",
   "execution_count": 3,
   "id": "383d75c2",
   "metadata": {},
   "outputs": [],
   "source": [
    "import pandas as pd \n",
    "import numpy as np\n",
    "\n",
    "from sklearn.preprocessing import LabelEncoder\n",
    "le = LabelEncoder()\n"
   ]
  },
  {
   "cell_type": "code",
   "execution_count": 16,
   "id": "a587dd03",
   "metadata": {},
   "outputs": [],
   "source": [
    "df_play = pd.DataFrame({\n",
    "    \"Whether\":[\"Sunny\" , \"Sunny\" , \"Overcast\" , \"Rainy\", \"Rainy\",\"Rainy\",\"Overcast\" , \"Sunny\",\"Sunny\" ,\"Rainy\",\"Sunny\",\"Overcast\",\"Overcast\",\"Rainy\"],\n",
    "    \"Play\" : [\"No\",\"No\",\"Yes\",\"Yes\",\"Yes\",\"No\",\"Yes\",\"No\",\"Yes\",\"Yes\",\"Yes\",\"Yes\",\"Yes\",\"No\"],\n",
    "})"
   ]
  },
  {
   "cell_type": "code",
   "execution_count": 17,
   "id": "a5d11bb4",
   "metadata": {},
   "outputs": [
    {
     "data": {
      "text/html": [
       "<div>\n",
       "<style scoped>\n",
       "    .dataframe tbody tr th:only-of-type {\n",
       "        vertical-align: middle;\n",
       "    }\n",
       "\n",
       "    .dataframe tbody tr th {\n",
       "        vertical-align: top;\n",
       "    }\n",
       "\n",
       "    .dataframe thead th {\n",
       "        text-align: right;\n",
       "    }\n",
       "</style>\n",
       "<table border=\"1\" class=\"dataframe\">\n",
       "  <thead>\n",
       "    <tr style=\"text-align: right;\">\n",
       "      <th></th>\n",
       "      <th>Whether</th>\n",
       "      <th>Play</th>\n",
       "    </tr>\n",
       "  </thead>\n",
       "  <tbody>\n",
       "    <tr>\n",
       "      <th>0</th>\n",
       "      <td>Sunny</td>\n",
       "      <td>No</td>\n",
       "    </tr>\n",
       "    <tr>\n",
       "      <th>1</th>\n",
       "      <td>Sunny</td>\n",
       "      <td>No</td>\n",
       "    </tr>\n",
       "    <tr>\n",
       "      <th>2</th>\n",
       "      <td>Overcast</td>\n",
       "      <td>Yes</td>\n",
       "    </tr>\n",
       "    <tr>\n",
       "      <th>3</th>\n",
       "      <td>Rainy</td>\n",
       "      <td>Yes</td>\n",
       "    </tr>\n",
       "    <tr>\n",
       "      <th>4</th>\n",
       "      <td>Rainy</td>\n",
       "      <td>Yes</td>\n",
       "    </tr>\n",
       "    <tr>\n",
       "      <th>5</th>\n",
       "      <td>Rainy</td>\n",
       "      <td>No</td>\n",
       "    </tr>\n",
       "    <tr>\n",
       "      <th>6</th>\n",
       "      <td>Overcast</td>\n",
       "      <td>Yes</td>\n",
       "    </tr>\n",
       "    <tr>\n",
       "      <th>7</th>\n",
       "      <td>Sunny</td>\n",
       "      <td>No</td>\n",
       "    </tr>\n",
       "    <tr>\n",
       "      <th>8</th>\n",
       "      <td>Sunny</td>\n",
       "      <td>Yes</td>\n",
       "    </tr>\n",
       "    <tr>\n",
       "      <th>9</th>\n",
       "      <td>Rainy</td>\n",
       "      <td>Yes</td>\n",
       "    </tr>\n",
       "    <tr>\n",
       "      <th>10</th>\n",
       "      <td>Sunny</td>\n",
       "      <td>Yes</td>\n",
       "    </tr>\n",
       "    <tr>\n",
       "      <th>11</th>\n",
       "      <td>Overcast</td>\n",
       "      <td>Yes</td>\n",
       "    </tr>\n",
       "    <tr>\n",
       "      <th>12</th>\n",
       "      <td>Overcast</td>\n",
       "      <td>Yes</td>\n",
       "    </tr>\n",
       "    <tr>\n",
       "      <th>13</th>\n",
       "      <td>Rainy</td>\n",
       "      <td>No</td>\n",
       "    </tr>\n",
       "  </tbody>\n",
       "</table>\n",
       "</div>"
      ],
      "text/plain": [
       "     Whether Play\n",
       "0      Sunny   No\n",
       "1      Sunny   No\n",
       "2   Overcast  Yes\n",
       "3      Rainy  Yes\n",
       "4      Rainy  Yes\n",
       "5      Rainy   No\n",
       "6   Overcast  Yes\n",
       "7      Sunny   No\n",
       "8      Sunny  Yes\n",
       "9      Rainy  Yes\n",
       "10     Sunny  Yes\n",
       "11  Overcast  Yes\n",
       "12  Overcast  Yes\n",
       "13     Rainy   No"
      ]
     },
     "execution_count": 17,
     "metadata": {},
     "output_type": "execute_result"
    }
   ],
   "source": [
    "df_play"
   ]
  },
  {
   "cell_type": "code",
   "execution_count": null,
   "id": "b835e668",
   "metadata": {},
   "outputs": [],
   "source": []
  },
  {
   "cell_type": "markdown",
   "id": "d6fd68b7",
   "metadata": {},
   "source": [
    "### 날씨가 Overcast 일때 경기를 할까?\n",
    "\n",
    "#### 사전 확률\n",
    "* P(Overcast) = 4/14 = 0.29\n",
    "* P(Yes) = 9/14 = 0.64\n",
    "\n",
    "#### 사후 확률\n",
    "* P(Overcast | Yes) = 4/9 = 0.44\n",
    "\n",
    "#### 베이즈 정리 \n",
    "* P(Yes|Overcast) = P(Overcast | Yes) * P(Yes) / P(Overcast)  = 0.44*0.64/0.29 =0.98\n",
    "* P(No|Overcast) = P(Overcast | No) * P(No) / P(Overcast) = 0 \n",
    "\n",
    "### 날씨가 Overcast 일때 경기를 할 확률이 0.98 , 하지 않을 확률 0이므로 \n",
    "### 분류기는 경기를 한다고 분류한다 \n",
    "\n"
   ]
  },
  {
   "cell_type": "markdown",
   "id": "1bac4bce",
   "metadata": {},
   "source": [
    "### Scikit learn 예제"
   ]
  },
  {
   "cell_type": "code",
   "execution_count": 70,
   "id": "b56ce6fe",
   "metadata": {},
   "outputs": [],
   "source": [
    "from sklearn.naive_bayes import GaussianNB\n",
    "from sklearn.datasets import load_wine\n",
    "from sklearn.model_selection import train_test_split\n",
    "from sklearn.metrics import accuracy_score\n",
    "from sklearn.tree import DecisionTreeClassifier"
   ]
  },
  {
   "cell_type": "code",
   "execution_count": 66,
   "id": "f9d11fe4",
   "metadata": {},
   "outputs": [],
   "source": [
    "wine = load_wine()\n",
    "\n",
    "wine_set = pd.DataFrame(wine.data , columns= wine.feature_names)"
   ]
  },
  {
   "cell_type": "code",
   "execution_count": 68,
   "id": "b2fdf120",
   "metadata": {},
   "outputs": [],
   "source": [
    "wine_set[\"labels\"] = wine.target"
   ]
  },
  {
   "cell_type": "code",
   "execution_count": 69,
   "id": "5ecb5084",
   "metadata": {},
   "outputs": [
    {
     "data": {
      "text/html": [
       "<div>\n",
       "<style scoped>\n",
       "    .dataframe tbody tr th:only-of-type {\n",
       "        vertical-align: middle;\n",
       "    }\n",
       "\n",
       "    .dataframe tbody tr th {\n",
       "        vertical-align: top;\n",
       "    }\n",
       "\n",
       "    .dataframe thead th {\n",
       "        text-align: right;\n",
       "    }\n",
       "</style>\n",
       "<table border=\"1\" class=\"dataframe\">\n",
       "  <thead>\n",
       "    <tr style=\"text-align: right;\">\n",
       "      <th></th>\n",
       "      <th>alcohol</th>\n",
       "      <th>malic_acid</th>\n",
       "      <th>ash</th>\n",
       "      <th>alcalinity_of_ash</th>\n",
       "      <th>magnesium</th>\n",
       "      <th>total_phenols</th>\n",
       "      <th>flavanoids</th>\n",
       "      <th>nonflavanoid_phenols</th>\n",
       "      <th>proanthocyanins</th>\n",
       "      <th>color_intensity</th>\n",
       "      <th>hue</th>\n",
       "      <th>od280/od315_of_diluted_wines</th>\n",
       "      <th>proline</th>\n",
       "      <th>labels</th>\n",
       "    </tr>\n",
       "  </thead>\n",
       "  <tbody>\n",
       "    <tr>\n",
       "      <th>0</th>\n",
       "      <td>14.23</td>\n",
       "      <td>1.71</td>\n",
       "      <td>2.43</td>\n",
       "      <td>15.6</td>\n",
       "      <td>127.0</td>\n",
       "      <td>2.80</td>\n",
       "      <td>3.06</td>\n",
       "      <td>0.28</td>\n",
       "      <td>2.29</td>\n",
       "      <td>5.64</td>\n",
       "      <td>1.04</td>\n",
       "      <td>3.92</td>\n",
       "      <td>1065.0</td>\n",
       "      <td>0</td>\n",
       "    </tr>\n",
       "    <tr>\n",
       "      <th>1</th>\n",
       "      <td>13.20</td>\n",
       "      <td>1.78</td>\n",
       "      <td>2.14</td>\n",
       "      <td>11.2</td>\n",
       "      <td>100.0</td>\n",
       "      <td>2.65</td>\n",
       "      <td>2.76</td>\n",
       "      <td>0.26</td>\n",
       "      <td>1.28</td>\n",
       "      <td>4.38</td>\n",
       "      <td>1.05</td>\n",
       "      <td>3.40</td>\n",
       "      <td>1050.0</td>\n",
       "      <td>0</td>\n",
       "    </tr>\n",
       "    <tr>\n",
       "      <th>2</th>\n",
       "      <td>13.16</td>\n",
       "      <td>2.36</td>\n",
       "      <td>2.67</td>\n",
       "      <td>18.6</td>\n",
       "      <td>101.0</td>\n",
       "      <td>2.80</td>\n",
       "      <td>3.24</td>\n",
       "      <td>0.30</td>\n",
       "      <td>2.81</td>\n",
       "      <td>5.68</td>\n",
       "      <td>1.03</td>\n",
       "      <td>3.17</td>\n",
       "      <td>1185.0</td>\n",
       "      <td>0</td>\n",
       "    </tr>\n",
       "    <tr>\n",
       "      <th>3</th>\n",
       "      <td>14.37</td>\n",
       "      <td>1.95</td>\n",
       "      <td>2.50</td>\n",
       "      <td>16.8</td>\n",
       "      <td>113.0</td>\n",
       "      <td>3.85</td>\n",
       "      <td>3.49</td>\n",
       "      <td>0.24</td>\n",
       "      <td>2.18</td>\n",
       "      <td>7.80</td>\n",
       "      <td>0.86</td>\n",
       "      <td>3.45</td>\n",
       "      <td>1480.0</td>\n",
       "      <td>0</td>\n",
       "    </tr>\n",
       "    <tr>\n",
       "      <th>4</th>\n",
       "      <td>13.24</td>\n",
       "      <td>2.59</td>\n",
       "      <td>2.87</td>\n",
       "      <td>21.0</td>\n",
       "      <td>118.0</td>\n",
       "      <td>2.80</td>\n",
       "      <td>2.69</td>\n",
       "      <td>0.39</td>\n",
       "      <td>1.82</td>\n",
       "      <td>4.32</td>\n",
       "      <td>1.04</td>\n",
       "      <td>2.93</td>\n",
       "      <td>735.0</td>\n",
       "      <td>0</td>\n",
       "    </tr>\n",
       "    <tr>\n",
       "      <th>...</th>\n",
       "      <td>...</td>\n",
       "      <td>...</td>\n",
       "      <td>...</td>\n",
       "      <td>...</td>\n",
       "      <td>...</td>\n",
       "      <td>...</td>\n",
       "      <td>...</td>\n",
       "      <td>...</td>\n",
       "      <td>...</td>\n",
       "      <td>...</td>\n",
       "      <td>...</td>\n",
       "      <td>...</td>\n",
       "      <td>...</td>\n",
       "      <td>...</td>\n",
       "    </tr>\n",
       "    <tr>\n",
       "      <th>173</th>\n",
       "      <td>13.71</td>\n",
       "      <td>5.65</td>\n",
       "      <td>2.45</td>\n",
       "      <td>20.5</td>\n",
       "      <td>95.0</td>\n",
       "      <td>1.68</td>\n",
       "      <td>0.61</td>\n",
       "      <td>0.52</td>\n",
       "      <td>1.06</td>\n",
       "      <td>7.70</td>\n",
       "      <td>0.64</td>\n",
       "      <td>1.74</td>\n",
       "      <td>740.0</td>\n",
       "      <td>2</td>\n",
       "    </tr>\n",
       "    <tr>\n",
       "      <th>174</th>\n",
       "      <td>13.40</td>\n",
       "      <td>3.91</td>\n",
       "      <td>2.48</td>\n",
       "      <td>23.0</td>\n",
       "      <td>102.0</td>\n",
       "      <td>1.80</td>\n",
       "      <td>0.75</td>\n",
       "      <td>0.43</td>\n",
       "      <td>1.41</td>\n",
       "      <td>7.30</td>\n",
       "      <td>0.70</td>\n",
       "      <td>1.56</td>\n",
       "      <td>750.0</td>\n",
       "      <td>2</td>\n",
       "    </tr>\n",
       "    <tr>\n",
       "      <th>175</th>\n",
       "      <td>13.27</td>\n",
       "      <td>4.28</td>\n",
       "      <td>2.26</td>\n",
       "      <td>20.0</td>\n",
       "      <td>120.0</td>\n",
       "      <td>1.59</td>\n",
       "      <td>0.69</td>\n",
       "      <td>0.43</td>\n",
       "      <td>1.35</td>\n",
       "      <td>10.20</td>\n",
       "      <td>0.59</td>\n",
       "      <td>1.56</td>\n",
       "      <td>835.0</td>\n",
       "      <td>2</td>\n",
       "    </tr>\n",
       "    <tr>\n",
       "      <th>176</th>\n",
       "      <td>13.17</td>\n",
       "      <td>2.59</td>\n",
       "      <td>2.37</td>\n",
       "      <td>20.0</td>\n",
       "      <td>120.0</td>\n",
       "      <td>1.65</td>\n",
       "      <td>0.68</td>\n",
       "      <td>0.53</td>\n",
       "      <td>1.46</td>\n",
       "      <td>9.30</td>\n",
       "      <td>0.60</td>\n",
       "      <td>1.62</td>\n",
       "      <td>840.0</td>\n",
       "      <td>2</td>\n",
       "    </tr>\n",
       "    <tr>\n",
       "      <th>177</th>\n",
       "      <td>14.13</td>\n",
       "      <td>4.10</td>\n",
       "      <td>2.74</td>\n",
       "      <td>24.5</td>\n",
       "      <td>96.0</td>\n",
       "      <td>2.05</td>\n",
       "      <td>0.76</td>\n",
       "      <td>0.56</td>\n",
       "      <td>1.35</td>\n",
       "      <td>9.20</td>\n",
       "      <td>0.61</td>\n",
       "      <td>1.60</td>\n",
       "      <td>560.0</td>\n",
       "      <td>2</td>\n",
       "    </tr>\n",
       "  </tbody>\n",
       "</table>\n",
       "<p>178 rows × 14 columns</p>\n",
       "</div>"
      ],
      "text/plain": [
       "     alcohol  malic_acid   ash  alcalinity_of_ash  magnesium  total_phenols  \\\n",
       "0      14.23        1.71  2.43               15.6      127.0           2.80   \n",
       "1      13.20        1.78  2.14               11.2      100.0           2.65   \n",
       "2      13.16        2.36  2.67               18.6      101.0           2.80   \n",
       "3      14.37        1.95  2.50               16.8      113.0           3.85   \n",
       "4      13.24        2.59  2.87               21.0      118.0           2.80   \n",
       "..       ...         ...   ...                ...        ...            ...   \n",
       "173    13.71        5.65  2.45               20.5       95.0           1.68   \n",
       "174    13.40        3.91  2.48               23.0      102.0           1.80   \n",
       "175    13.27        4.28  2.26               20.0      120.0           1.59   \n",
       "176    13.17        2.59  2.37               20.0      120.0           1.65   \n",
       "177    14.13        4.10  2.74               24.5       96.0           2.05   \n",
       "\n",
       "     flavanoids  nonflavanoid_phenols  proanthocyanins  color_intensity   hue  \\\n",
       "0          3.06                  0.28             2.29             5.64  1.04   \n",
       "1          2.76                  0.26             1.28             4.38  1.05   \n",
       "2          3.24                  0.30             2.81             5.68  1.03   \n",
       "3          3.49                  0.24             2.18             7.80  0.86   \n",
       "4          2.69                  0.39             1.82             4.32  1.04   \n",
       "..          ...                   ...              ...              ...   ...   \n",
       "173        0.61                  0.52             1.06             7.70  0.64   \n",
       "174        0.75                  0.43             1.41             7.30  0.70   \n",
       "175        0.69                  0.43             1.35            10.20  0.59   \n",
       "176        0.68                  0.53             1.46             9.30  0.60   \n",
       "177        0.76                  0.56             1.35             9.20  0.61   \n",
       "\n",
       "     od280/od315_of_diluted_wines  proline  labels  \n",
       "0                            3.92   1065.0       0  \n",
       "1                            3.40   1050.0       0  \n",
       "2                            3.17   1185.0       0  \n",
       "3                            3.45   1480.0       0  \n",
       "4                            2.93    735.0       0  \n",
       "..                            ...      ...     ...  \n",
       "173                          1.74    740.0       2  \n",
       "174                          1.56    750.0       2  \n",
       "175                          1.56    835.0       2  \n",
       "176                          1.62    840.0       2  \n",
       "177                          1.60    560.0       2  \n",
       "\n",
       "[178 rows x 14 columns]"
      ]
     },
     "execution_count": 69,
     "metadata": {},
     "output_type": "execute_result"
    }
   ],
   "source": [
    "wine_set"
   ]
  },
  {
   "cell_type": "code",
   "execution_count": 63,
   "id": "a2c008cc",
   "metadata": {},
   "outputs": [
    {
     "name": "stdout",
     "output_type": "stream",
     "text": [
      "features :  ['alcohol', 'malic_acid', 'ash', 'alcalinity_of_ash', 'magnesium', 'total_phenols', 'flavanoids', 'nonflavanoid_phenols', 'proanthocyanins', 'color_intensity', 'hue', 'od280/od315_of_diluted_wines', 'proline']\n",
      "labels:  ['class_0' 'class_1' 'class_2']\n"
     ]
    }
   ],
   "source": [
    "print(\"features : \" ,wine.feature_names)\n",
    "print('labels: ' , wine.target_names)"
   ]
  },
  {
   "cell_type": "code",
   "execution_count": 64,
   "id": "35424412",
   "metadata": {},
   "outputs": [],
   "source": [
    "X_train , X_test , y_train , y_test = train_test_split(wine.data , wine.target , test_size= 0.3, random_state= 136)"
   ]
  },
  {
   "cell_type": "code",
   "execution_count": 74,
   "id": "234bc03c",
   "metadata": {},
   "outputs": [
    {
     "name": "stdout",
     "output_type": "stream",
     "text": [
      "정확도는 :  0.9444444444444444\n"
     ]
    }
   ],
   "source": [
    "gnb = GaussianNB()\n",
    "gnb.fit(X_train , y_train)\n",
    "y_pred = gnb.predict(X_test)\n",
    "print(\"정확도는 : \", accuracy_score(y_test , y_pred))\n",
    "\n"
   ]
  },
  {
   "cell_type": "markdown",
   "id": "f850e9ec",
   "metadata": {},
   "source": [
    "### GaussianNB Hyperparameter \n",
    "\n",
    "#### priors=None, var_smoothing=1e-09\n",
    "\n",
    "* priors는 list [ ] 형태로 받으며 , 리스트 사이즈는 분류 갯수와 동일하며 전체 합은 1이어야하고 가중치를 의미함\n",
    "* var_smoothing 전혀 학습되지 않은 형태의 훈련되지 않은 값이 들어올 경우 0으로 확률을 인식해서 계산해버리는 오류 \n"
   ]
  },
  {
   "cell_type": "code",
   "execution_count": 87,
   "id": "ded942ad",
   "metadata": {},
   "outputs": [
    {
     "name": "stdout",
     "output_type": "stream",
     "text": [
      "정확도는 :  0.9444444444444444\n"
     ]
    }
   ],
   "source": [
    "gnb = GaussianNB()\n",
    "\n",
    "gnb.fit(X_train , y_train)\n",
    "y_pred = gnb.predict(X_test)\n",
    "print(\"정확도는 : \", accuracy_score(y_test , y_pred))\n"
   ]
  },
  {
   "cell_type": "code",
   "execution_count": 88,
   "id": "c047df3d",
   "metadata": {},
   "outputs": [
    {
     "name": "stdout",
     "output_type": "stream",
     "text": [
      "정확도는 :  0.8888888888888888\n"
     ]
    }
   ],
   "source": [
    "gnb = GaussianNB(priors= [0.005,0.005,0.99])\n",
    "\n",
    "gnb.fit(X_train , y_train)\n",
    "y_pred = gnb.predict(X_test)\n",
    "print(\"정확도는 : \", accuracy_score(y_test , y_pred))\n",
    "\n"
   ]
  },
  {
   "cell_type": "code",
   "execution_count": 89,
   "id": "7505bd1b",
   "metadata": {},
   "outputs": [
    {
     "name": "stdout",
     "output_type": "stream",
     "text": [
      "정확도는 :  0.9814814814814815\n",
      "Best parameters :  {'var_smoothing': 1e-05}\n"
     ]
    }
   ],
   "source": [
    "from sklearn.model_selection import GridSearchCV\n",
    "params = {\"var_smoothing\" : [0.01,0.001,0.0001,0.00001]}\n",
    "grid = GridSearchCV(GaussianNB() ,param_grid= params,scoring = 'accuracy' , cv = 4)\n",
    "grid.fit(X_train , y_train)\n",
    "\n",
    "y_pred = grid.predict(X_test)\n",
    "print(\"정확도는 : \", accuracy_score(y_test , y_pred))\n",
    "print(\"Best parameters : \" , grid.best_params_)"
   ]
  },
  {
   "cell_type": "code",
   "execution_count": 75,
   "id": "aff42cff",
   "metadata": {},
   "outputs": [
    {
     "name": "stdout",
     "output_type": "stream",
     "text": [
      "정확도는 :  0.9259259259259259\n"
     ]
    }
   ],
   "source": [
    "tree = DecisionTreeClassifier()\n",
    "tree.fit(X_train , y_train)\n",
    "y_pred = tree.predict(X_test)\n",
    "print(\"정확도는 : \", accuracy_score(y_test , y_pred))"
   ]
  },
  {
   "cell_type": "markdown",
   "id": "74635713",
   "metadata": {},
   "source": [
    "### Naive Bayesian 모델 \n",
    "\n",
    "#### Bernoulli Naive Bayes\n",
    "\n",
    "* 데이터 특징이 0,1 로 구성될때 (feature) - 스팸 메일 분류 등 - 출현했는가 안했는가\n",
    "  즉 어떤 단어가 있는가 없는가의 개념\n",
    "\n",
    "#### Multinomial Naive Bayes \n",
    "\n",
    "* 데이터 특징이 베르누이보다는 좀 더 디테일하게 몇번 나왔는가 까지 (세그멘테이션 세밀)\n",
    "\n",
    "##### 추후 텍스트 분석에서 해당 모델 사용"
   ]
  },
  {
   "cell_type": "markdown",
   "id": "e225b490",
   "metadata": {},
   "source": [
    "## 2) Support Vector Machine"
   ]
  },
  {
   "cell_type": "markdown",
   "id": "6f5fe919",
   "metadata": {},
   "source": [
    "### SVM 서포트 벡터 머신은 결정경계 (Decision Boundary) 기준선을 정의하는 모델 "
   ]
  },
  {
   "cell_type": "markdown",
   "id": "cfcc3931",
   "metadata": {},
   "source": [
    "![SVM01.png](SVM/SVM01.png)"
   ]
  },
  {
   "cell_type": "markdown",
   "id": "ecaaea03",
   "metadata": {},
   "source": [
    "### 최적의 결정 경계 \n",
    "\n",
    "![SVM02.png](SVM/SVM02.png)"
   ]
  },
  {
   "cell_type": "markdown",
   "id": "881b102f",
   "metadata": {},
   "source": [
    "### Margin , Outlier , Kernel\n"
   ]
  },
  {
   "cell_type": "markdown",
   "id": "15ba1ff6",
   "metadata": {},
   "source": [
    "![SVM03.png](SVM/SVM03.png)"
   ]
  },
  {
   "cell_type": "markdown",
   "id": "01ad03d4",
   "metadata": {},
   "source": [
    "* Margin : C 값으로 표현 높을수록 Hard Margin\n",
    "* Kernel : 분류하는 기준 Default = rbf  , 그외 sigmoid , linear , poly 등이 있음"
   ]
  },
  {
   "cell_type": "markdown",
   "id": "ca2e2285",
   "metadata": {},
   "source": [
    "![SVM04.png](SVM/SVM04.png)"
   ]
  },
  {
   "cell_type": "markdown",
   "id": "4cb2b91f",
   "metadata": {},
   "source": [
    "* Gamma :  Kernel 곡선의 스무스함 정도를 표현"
   ]
  },
  {
   "cell_type": "markdown",
   "id": "4295b309",
   "metadata": {},
   "source": [
    "![SVM07.png](SVM/SVM07.png)\n",
    "![SVM08.png](SVM/SVM08.png)\n",
    "![SVM09.png](SVM/SVM09.png)"
   ]
  },
  {
   "cell_type": "code",
   "execution_count": 98,
   "id": "d1f825fc",
   "metadata": {},
   "outputs": [],
   "source": [
    "from sklearn.svm import SVC"
   ]
  },
  {
   "cell_type": "code",
   "execution_count": 101,
   "id": "101526b7",
   "metadata": {},
   "outputs": [
    {
     "name": "stdout",
     "output_type": "stream",
     "text": [
      "정확도 :  0.9629629629629629\n"
     ]
    }
   ],
   "source": [
    "model = SVC(kernel ='linear')\n",
    "model.fit(X_train ,y_train)\n",
    "y_pred = model.predict(X_test)\n",
    "print(\"정확도 : \", accuracy_score(y_test , y_pred))"
   ]
  },
  {
   "cell_type": "code",
   "execution_count": 107,
   "id": "40b00442",
   "metadata": {},
   "outputs": [
    {
     "name": "stdout",
     "output_type": "stream",
     "text": [
      "정확도: 0.9814814814814815\n"
     ]
    }
   ],
   "source": [
    "params = {\n",
    "    \"kernel\" :[\"sigmoid\" , \"linear\" , \"rbf\" , \"poly\"],\n",
    "    \"gamma\" : [0.1 , 0.001 , 0.0001 , 0.00001],\n",
    "    \"C\" : [0.1 ,1 ,0.01 , 0.001 ]\n",
    "}\n",
    "\n",
    "\n",
    "grid_svc = GridSearchCV(SVC(),param_grid= params,  cv = 4 , scoring= \"accuracy\"  ,refit= True)\n",
    "grid_svc.fit(X_train ,y_train)\n",
    "grid_svc.best_params_\n",
    "y_pred = grid_svc.predict(X_test)\n",
    "print(\"정확도:\" , accuracy_score(y_test , y_pred))"
   ]
  },
  {
   "cell_type": "code",
   "execution_count": null,
   "id": "59d669d0",
   "metadata": {},
   "outputs": [],
   "source": []
  }
 ],
 "metadata": {
  "kernelspec": {
   "display_name": "Python 3 (ipykernel)",
   "language": "python",
   "name": "python3"
  },
  "language_info": {
   "codemirror_mode": {
    "name": "ipython",
    "version": 3
   },
   "file_extension": ".py",
   "mimetype": "text/x-python",
   "name": "python",
   "nbconvert_exporter": "python",
   "pygments_lexer": "ipython3",
   "version": "3.9.10"
  }
 },
 "nbformat": 4,
 "nbformat_minor": 5
}

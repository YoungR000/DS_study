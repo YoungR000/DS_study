{
 "cells": [
  {
   "cell_type": "code",
   "execution_count": 1,
   "metadata": {},
   "outputs": [],
   "source": [
    "import pandas as pd\n",
    "import numpy as np\n",
    "\n",
    "import matplotlib.pyplot as plt\n",
    "import seaborn as sns\n",
    "\n",
    "\n",
    "#from pycaret.regression import *\n",
    "from sklearn.model_selection import train_test_split\n",
    "\n",
    "#import lightgbm as lgb\n",
    "import xgboost as xgb\n",
    "import catboost as cb \n",
    "\n",
    "from lightgbm import LGBMRegressor\n",
    "from xgboost import XGBRegressor\n",
    "from catboost import CatBoostRegressor\n",
    "from sklearn.ensemble import RandomForestRegressor\n",
    "\n",
    "from sklearn.metrics import mean_absolute_error\n",
    "from sklearn.model_selection import cross_val_score, cross_validate\n",
    "import optuna\n",
    "\n",
    "from optuna.samplers import TPESampler\n"
   ]
  },
  {
   "cell_type": "code",
   "execution_count": 2,
   "metadata": {},
   "outputs": [],
   "source": [
    "def NMAE(true, pred):\n",
    "    mae = np.mean(np.abs(np.exp(true)-np.round(np.exp(pred))))\n",
    "    score = mae / np.mean(np.abs(np.exp(true)))\n",
    "    return score"
   ]
  },
  {
   "cell_type": "code",
   "execution_count": 3,
   "metadata": {},
   "outputs": [],
   "source": [
    "train = pd.read_csv('data/train.csv')\n",
    "test = pd.read_csv('data/test.csv')\n",
    "submission = pd.read_csv('data/sample_submission.csv')"
   ]
  },
  {
   "cell_type": "code",
   "execution_count": 4,
   "metadata": {},
   "outputs": [
    {
     "data": {
      "text/html": [
       "<div>\n",
       "<style scoped>\n",
       "    .dataframe tbody tr th:only-of-type {\n",
       "        vertical-align: middle;\n",
       "    }\n",
       "\n",
       "    .dataframe tbody tr th {\n",
       "        vertical-align: top;\n",
       "    }\n",
       "\n",
       "    .dataframe thead th {\n",
       "        text-align: right;\n",
       "    }\n",
       "</style>\n",
       "<table border=\"1\" class=\"dataframe\">\n",
       "  <thead>\n",
       "    <tr style=\"text-align: right;\">\n",
       "      <th></th>\n",
       "      <th>id</th>\n",
       "      <th>Gender</th>\n",
       "      <th>Lenght</th>\n",
       "      <th>Diameter</th>\n",
       "      <th>Height</th>\n",
       "      <th>Whole Weight</th>\n",
       "      <th>Shucked Weight</th>\n",
       "      <th>Viscra Weight</th>\n",
       "      <th>Shell Weight</th>\n",
       "      <th>Target</th>\n",
       "    </tr>\n",
       "  </thead>\n",
       "  <tbody>\n",
       "    <tr>\n",
       "      <th>762</th>\n",
       "      <td>763</td>\n",
       "      <td>F</td>\n",
       "      <td>0.7</td>\n",
       "      <td>0.585</td>\n",
       "      <td>0.185</td>\n",
       "      <td>1.8075</td>\n",
       "      <td>0.7055</td>\n",
       "      <td>0.3215</td>\n",
       "      <td>0.475</td>\n",
       "      <td>29</td>\n",
       "    </tr>\n",
       "  </tbody>\n",
       "</table>\n",
       "</div>"
      ],
      "text/plain": [
       "      id Gender  Lenght  Diameter  Height  Whole Weight  Shucked Weight  \\\n",
       "762  763      F     0.7     0.585   0.185        1.8075          0.7055   \n",
       "\n",
       "     Viscra Weight  Shell Weight  Target  \n",
       "762         0.3215         0.475      29  "
      ]
     },
     "execution_count": 4,
     "metadata": {},
     "output_type": "execute_result"
    }
   ],
   "source": [
    "train[train['Target']>25]"
   ]
  },
  {
   "cell_type": "code",
   "execution_count": 5,
   "metadata": {},
   "outputs": [],
   "source": [
    "def data_preprocess(df=None, test=None) :\n",
    "    df = df.copy()\n",
    "    \n",
    "    # 부위별 무게 / 전체무게\n",
    "    df['Shell Percent'] = df['Shell Weight']/df['Whole Weight']\n",
    "    df['Viscra Percent'] = df['Viscra Weight']/df['Whole Weight']\n",
    "    df['Shucked Percent'] = df['Shucked Weight']/df['Whole Weight']\n",
    "    \n",
    "    # (전체무게 - 각 부위무게) / 전체무게\n",
    "    df['differ_weight_percent'] = abs(df['Shell Weight']+df['Shucked Weight']+df['Viscra Weight']-df['Whole Weight'])/df['Whole Weight']\n",
    "    \n",
    "    # 길이 비율\n",
    "    df['ratio_1'] = df['Height']/df['Diameter']\n",
    "    #df['ratio_2'] = df['Lenght']/df['Diameter']\n",
    "    \n",
    "    # 무게 비율 (부위/부위)\n",
    "    #df['weight ratio_1'] =  (df['Shell Weight']+df['Viscra Weight']+df['Shucked Weight'])/df['Whole Weight']\n",
    "    #df['weight ratio_2'] =  df['Shucked Weight']/df['Viscra Weight']\n",
    "    #df['weight ratio_3'] =  df['Shell Weight']/df['Viscra Weight']\n",
    "    #df['weight ratio_4'] =  df['Shell Weight']/df['Shucked Weight']\n",
    "    \n",
    "    # 3/30 쏘쏘....  \n",
    "    #df['weight ratio_5'] =  (df['Shell Weight']+df['Shucked Weight'])/df['Viscra Weight']\n",
    "    #df['weight ratio_6'] =  (df['Viscra Weight']+df['Shucked Weight'])/df['Shell Weight']\n",
    "    #df['weight ratio_7'] =  (df['Viscra Weight']+df['Shell Weight'])/df['Shucked Weight']\n",
    "    \n",
    "    #df['weight ratio_8'] =  (df['Shucked Weight']+df['Shell Weight'])/df['Whole Weight']\n",
    "    df['weight ratio_9'] =  (df['Viscra Weight']+df['Shucked Weight'])/df['Whole Weight']\n",
    "    #df['weight ratio_10'] =  (df['Viscra Weight']+df['Shell Weight'])/df['Whole Weight']\n",
    "    \n",
    "    #gender를 0,1로 구분\n",
    "    #df['Gender'] = df['Gender'].map(lambda x : 0 if x=='M' or x ==\"F\" else 1)\n",
    "    \n",
    "    #cbrt\n",
    "    #df['cbrt_mm'] = np.cbrt(df['Height']*df['Diameter']*df['Lenght'])\n",
    "    \n",
    "    \n",
    "    if test == True : \n",
    "        \n",
    "        return df \n",
    "    \n",
    "    else :\n",
    "        df = df.drop(762, axis=0)\n",
    "        df['Target_log'] = np.log1p(df.Target)\n",
    "   \n",
    "        return df  "
   ]
  },
  {
   "cell_type": "code",
   "execution_count": 6,
   "metadata": {},
   "outputs": [],
   "source": [
    "df_train = data_preprocess(train)"
   ]
  },
  {
   "cell_type": "code",
   "execution_count": 7,
   "metadata": {
    "scrolled": true
   },
   "outputs": [],
   "source": [
    "#Optuna용 train set\n",
    "\n",
    "feature = ['Gender', 'Lenght', 'Diameter', 'Height', \n",
    "             'Whole Weight','Shucked Weight', 'Viscra Weight', 'Shell Weight',\n",
    "             'Shell Percent', 'Viscra Percent', 'Shucked Percent', \n",
    "             'ratio_1', 'weight ratio_9',\n",
    "             'differ_weight_percent']\n",
    "\n",
    "X= df_train[feature]\n",
    "y = df_train['Target_log']\n"
   ]
  },
  {
   "cell_type": "code",
   "execution_count": 8,
   "metadata": {},
   "outputs": [],
   "source": [
    "def objective(trial):\n",
    "    params = {\n",
    "        #objective':'regression',\n",
    "        #loss_function':'MAE',\n",
    "        \"random_state\":42,\n",
    "        'learning_rate' : trial.suggest_loguniform('learning_rate', 0.01, 0.3),\n",
    "        'bagging_temperature' :trial.suggest_loguniform('bagging_temperature', 0.01, 100.00),\n",
    "        \"n_estimators\":trial.suggest_int(\"n_estimators\", 300, 1000),\n",
    "        \"max_depth\":trial.suggest_int(\"max_depth\", 4, 12),\n",
    "        'random_strength' :trial.suggest_int('random_strength', 0, 100),\n",
    "        \"colsample_bylevel\":trial.suggest_float(\"colsample_bylevel\", 0.4, 1.0),\n",
    "        \"l2_leaf_reg\":trial.suggest_float(\"l2_leaf_reg\",1e-8,3e-5),\n",
    "        \"min_child_samples\": trial.suggest_int(\"min_child_samples\", 5, 100),\n",
    "        \"max_bin\": trial.suggest_int(\"max_bin\", 200, 500)\n",
    "        }\n",
    "    \n",
    "    X_train, X_valid, y_train, y_valid = train_test_split(X,y,test_size=0.2)\n",
    "  \n",
    "    cat_features =[0]\n",
    "    cat = CatBoostRegressor(**params)\n",
    "    cat.fit(X_train, y_train,\n",
    "            eval_set=[(X_train, y_train), (X_valid,y_valid)],\n",
    "            early_stopping_rounds=35,cat_features=cat_features,\n",
    "            verbose=100)\n",
    "    cat_pred = cat.predict(X_valid)\n",
    "    \n",
    "    score = NMAE(y_valid, cat_pred)\n",
    "\n",
    "    return score"
   ]
  },
  {
   "cell_type": "code",
   "execution_count": 9,
   "metadata": {
    "scrolled": false
   },
   "outputs": [
    {
     "name": "stderr",
     "output_type": "stream",
     "text": [
      "\u001b[32m[I 2022-04-12 23:28:42,416]\u001b[0m A new study created in RDB with name: example-study\u001b[0m\n"
     ]
    },
    {
     "name": "stdout",
     "output_type": "stream",
     "text": [
      "0:\tlearn: 0.2717482\ttest: 0.2717482\ttest1: 0.3018934\tbest: 0.3018934 (0)\ttotal: 185ms\tremaining: 2m 30s\n",
      "100:\tlearn: 0.1450203\ttest: 0.1495420\ttest1: 0.1911728\tbest: 0.1911728 (100)\ttotal: 2.9s\tremaining: 20.5s\n",
      "200:\tlearn: 0.1247739\ttest: 0.1311154\ttest1: 0.1865226\tbest: 0.1863754 (188)\ttotal: 5.85s\tremaining: 17.8s\n"
     ]
    },
    {
     "name": "stderr",
     "output_type": "stream",
     "text": [
      "\u001b[32m[I 2022-04-12 23:28:49,070]\u001b[0m Trial 0 finished with value: 0.14773940904236385 and parameters: {'learning_rate': 0.03574712922600244, 'bagging_temperature': 63.512210106407046, 'n_estimators': 813, 'max_depth': 9, 'random_strength': 15, 'colsample_bylevel': 0.49359671220172163, 'l2_leaf_reg': 1.7519275289243016e-06, 'min_child_samples': 88, 'max_bin': 380}. Best is trial 0 with value: 0.14773940904236385.\u001b[0m\n"
     ]
    },
    {
     "name": "stdout",
     "output_type": "stream",
     "text": [
      "Stopped by overfitting detector  (35 iterations wait)\n",
      "\n",
      "bestTest = 0.186375416\n",
      "bestIteration = 188\n",
      "\n",
      "Shrink model to first 189 iterations.\n",
      "0:\tlearn: 0.2662509\ttest: 0.2662509\ttest1: 0.2748282\tbest: 0.2748282 (0)\ttotal: 7.86ms\tremaining: 7.69s\n"
     ]
    },
    {
     "name": "stderr",
     "output_type": "stream",
     "text": [
      "\u001b[32m[I 2022-04-12 23:28:52,932]\u001b[0m Trial 1 finished with value: 0.12955465587044535 and parameters: {'learning_rate': 0.11114989443094977, 'bagging_temperature': 0.012087541473056965, 'n_estimators': 979, 'max_depth': 11, 'random_strength': 21, 'colsample_bylevel': 0.5090949803242604, 'l2_leaf_reg': 5.51030125050448e-06, 'min_child_samples': 34, 'max_bin': 357}. Best is trial 1 with value: 0.12955465587044535.\u001b[0m\n"
     ]
    },
    {
     "name": "stdout",
     "output_type": "stream",
     "text": [
      "Stopped by overfitting detector  (35 iterations wait)\n",
      "\n",
      "bestTest = 0.174955658\n",
      "bestIteration = 64\n",
      "\n",
      "Shrink model to first 65 iterations.\n",
      "0:\tlearn: 0.2787771\ttest: 0.2787771\ttest1: 0.2753162\tbest: 0.2753162 (0)\ttotal: 12.9ms\tremaining: 9.35s\n",
      "100:\tlearn: 0.1676876\ttest: 0.1684803\ttest1: 0.1671871\tbest: 0.1671871 (100)\ttotal: 2.3s\tremaining: 14.3s\n",
      "200:\tlearn: 0.1571811\ttest: 0.1590726\ttest1: 0.1615345\tbest: 0.1613558 (196)\ttotal: 4.68s\tremaining: 12.3s\n"
     ]
    },
    {
     "name": "stderr",
     "output_type": "stream",
     "text": [
      "\u001b[32m[I 2022-04-12 23:29:00,393]\u001b[0m Trial 2 finished with value: 0.12919896640826875 and parameters: {'learning_rate': 0.04345454109729477, 'bagging_temperature': 0.14618962793704965, 'n_estimators': 728, 'max_depth': 5, 'random_strength': 29, 'colsample_bylevel': 0.619817105976215, 'l2_leaf_reg': 1.3687538826668908e-05, 'min_child_samples': 80, 'max_bin': 260}. Best is trial 2 with value: 0.12919896640826875.\u001b[0m\n"
     ]
    },
    {
     "name": "stdout",
     "output_type": "stream",
     "text": [
      "Stopped by overfitting detector  (35 iterations wait)\n",
      "\n",
      "bestTest = 0.1607146922\n",
      "bestIteration = 255\n",
      "\n",
      "Shrink model to first 256 iterations.\n",
      "0:\tlearn: 0.2824538\ttest: 0.2824538\ttest1: 0.2680190\tbest: 0.2680190 (0)\ttotal: 700us\tremaining: 232ms\n",
      "100:\tlearn: 0.1440456\ttest: 0.1495535\ttest1: 0.1552999\tbest: 0.1552999 (100)\ttotal: 3.64s\tremaining: 8.32s\n"
     ]
    },
    {
     "name": "stderr",
     "output_type": "stream",
     "text": [
      "\u001b[32m[I 2022-04-12 23:29:07,052]\u001b[0m Trial 3 finished with value: 0.11658698050753953 and parameters: {'learning_rate': 0.05748924681991978, 'bagging_temperature': 2.342384984711291, 'n_estimators': 332, 'max_depth': 9, 'random_strength': 17, 'colsample_bylevel': 0.43903095579116774, 'l2_leaf_reg': 2.8467077262227466e-05, 'min_child_samples': 97, 'max_bin': 443}. Best is trial 3 with value: 0.11658698050753953.\u001b[0m\n"
     ]
    },
    {
     "name": "stdout",
     "output_type": "stream",
     "text": [
      "Stopped by overfitting detector  (35 iterations wait)\n",
      "\n",
      "bestTest = 0.1535835498\n",
      "bestIteration = 142\n",
      "\n",
      "Shrink model to first 143 iterations.\n",
      "0:\tlearn: 0.2817150\ttest: 0.2817150\ttest1: 0.2695944\tbest: 0.2695944 (0)\ttotal: 52.8ms\tremaining: 41.1s\n",
      "100:\tlearn: 0.1659256\ttest: 0.1670163\ttest1: 0.1686537\tbest: 0.1686537 (100)\ttotal: 3.62s\tremaining: 24.3s\n",
      "200:\tlearn: 0.1515374\ttest: 0.1539875\ttest1: 0.1630817\tbest: 0.1630293 (198)\ttotal: 6.31s\tremaining: 18.1s\n"
     ]
    },
    {
     "name": "stderr",
     "output_type": "stream",
     "text": [
      "\u001b[32m[I 2022-04-12 23:29:15,992]\u001b[0m Trial 4 finished with value: 0.1271654994471065 and parameters: {'learning_rate': 0.028180680291847244, 'bagging_temperature': 0.024586032763280065, 'n_estimators': 779, 'max_depth': 7, 'random_strength': 12, 'colsample_bylevel': 0.6971061460667621, 'l2_leaf_reg': 1.0413117482453996e-06, 'min_child_samples': 92, 'max_bin': 277}. Best is trial 3 with value: 0.11658698050753953.\u001b[0m\n"
     ]
    },
    {
     "name": "stdout",
     "output_type": "stream",
     "text": [
      "Stopped by overfitting detector  (35 iterations wait)\n",
      "\n",
      "bestTest = 0.1622581528\n",
      "bestIteration = 264\n",
      "\n",
      "Shrink model to first 265 iterations.\n",
      "0:\tlearn: 0.2723692\ttest: 0.2723628\ttest1: 0.2528055\tbest: 0.2528055 (0)\ttotal: 40.2ms\tremaining: 26.7s\n",
      "100:\tlearn: 0.1291225\ttest: 0.1349537\ttest1: 0.1579526\tbest: 0.1577021 (99)\ttotal: 3.94s\tremaining: 22s\n"
     ]
    },
    {
     "name": "stderr",
     "output_type": "stream",
     "text": [
      "\u001b[32m[I 2022-04-12 23:29:22,024]\u001b[0m Trial 5 finished with value: 0.11951909476661951 and parameters: {'learning_rate': 0.09519754482692679, 'bagging_temperature': 0.17654048052495078, 'n_estimators': 664, 'max_depth': 8, 'random_strength': 18, 'colsample_bylevel': 0.9817507766587351, 'l2_leaf_reg': 2.3256233372599825e-05, 'min_child_samples': 95, 'max_bin': 469}. Best is trial 3 with value: 0.11658698050753953.\u001b[0m\n"
     ]
    },
    {
     "name": "stdout",
     "output_type": "stream",
     "text": [
      "Stopped by overfitting detector  (35 iterations wait)\n",
      "\n",
      "bestTest = 0.1574136623\n",
      "bestIteration = 103\n",
      "\n",
      "Shrink model to first 104 iterations.\n",
      "0:\tlearn: 0.2735976\ttest: 0.2735976\ttest1: 0.2765103\tbest: 0.2765103 (0)\ttotal: 20.5ms\tremaining: 7.39s\n",
      "100:\tlearn: 0.1506896\ttest: 0.1515958\ttest1: 0.1683487\tbest: 0.1683487 (100)\ttotal: 2.15s\tremaining: 5.55s\n"
     ]
    },
    {
     "name": "stderr",
     "output_type": "stream",
     "text": [
      "\u001b[32m[I 2022-04-12 23:29:25,600]\u001b[0m Trial 6 finished with value: 0.12993123416576186 and parameters: {'learning_rate': 0.0764136186923332, 'bagging_temperature': 48.696409415209004, 'n_estimators': 362, 'max_depth': 5, 'random_strength': 4, 'colsample_bylevel': 0.5951981984579586, 'l2_leaf_reg': 1.1666431917787565e-05, 'min_child_samples': 31, 'max_bin': 449}. Best is trial 3 with value: 0.11658698050753953.\u001b[0m\n"
     ]
    },
    {
     "name": "stdout",
     "output_type": "stream",
     "text": [
      "Stopped by overfitting detector  (35 iterations wait)\n",
      "\n",
      "bestTest = 0.1675171666\n",
      "bestIteration = 127\n",
      "\n",
      "Shrink model to first 128 iterations.\n",
      "0:\tlearn: 0.2836346\ttest: 0.2836346\ttest1: 0.2781441\tbest: 0.2781441 (0)\ttotal: 4.01ms\tremaining: 2.72s\n",
      "100:\tlearn: 0.1742504\ttest: 0.1750720\ttest1: 0.1709709\tbest: 0.1709709 (100)\ttotal: 1.46s\tremaining: 8.39s\n",
      "200:\tlearn: 0.1622970\ttest: 0.1639409\ttest1: 0.1603930\tbest: 0.1603930 (200)\ttotal: 3.11s\tremaining: 7.41s\n",
      "300:\tlearn: 0.1552513\ttest: 0.1575383\ttest1: 0.1583869\tbest: 0.1582444 (294)\ttotal: 4.99s\tremaining: 6.28s\n",
      "400:\tlearn: 0.1433974\ttest: 0.1459515\ttest1: 0.1565690\tbest: 0.1565473 (399)\ttotal: 6.72s\tremaining: 4.68s\n"
     ]
    },
    {
     "name": "stderr",
     "output_type": "stream",
     "text": [
      "\u001b[32m[I 2022-04-12 23:29:33,662]\u001b[0m Trial 7 finished with value: 0.12187039764359352 and parameters: {'learning_rate': 0.03364867144187954, 'bagging_temperature': 0.13296521457299515, 'n_estimators': 680, 'max_depth': 5, 'random_strength': 81, 'colsample_bylevel': 0.44473038620786254, 'l2_leaf_reg': 2.9606739228649516e-05, 'min_child_samples': 79, 'max_bin': 259}. Best is trial 3 with value: 0.11658698050753953.\u001b[0m\n"
     ]
    },
    {
     "name": "stdout",
     "output_type": "stream",
     "text": [
      "Stopped by overfitting detector  (35 iterations wait)\n",
      "\n",
      "bestTest = 0.1559681884\n",
      "bestIteration = 423\n",
      "\n",
      "Shrink model to first 424 iterations.\n",
      "0:\tlearn: 0.2857208\ttest: 0.2857208\ttest1: 0.2700867\tbest: 0.2700867 (0)\ttotal: 731us\tremaining: 581ms\n",
      "100:\tlearn: 0.2042572\ttest: 0.2060264\ttest1: 0.2040360\tbest: 0.2040360 (100)\ttotal: 2.75s\tremaining: 18.9s\n",
      "200:\tlearn: 0.1710247\ttest: 0.1740352\ttest1: 0.1821726\tbest: 0.1821726 (200)\ttotal: 5.44s\tremaining: 16.1s\n",
      "300:\tlearn: 0.1553949\ttest: 0.1594970\ttest1: 0.1742025\tbest: 0.1742025 (300)\ttotal: 8s\tremaining: 13.1s\n",
      "400:\tlearn: 0.1464608\ttest: 0.1516046\ttest1: 0.1708899\tbest: 0.1708899 (400)\ttotal: 10.6s\tremaining: 10.5s\n",
      "500:\tlearn: 0.1405403\ttest: 0.1468080\ttest1: 0.1690905\tbest: 0.1690877 (499)\ttotal: 13.5s\tremaining: 7.95s\n",
      "600:\tlearn: 0.1354216\ttest: 0.1423525\ttest1: 0.1683171\tbest: 0.1683066 (599)\ttotal: 15.9s\tremaining: 5.13s\n",
      "700:\tlearn: 0.1313108\ttest: 0.1388001\ttest1: 0.1680900\tbest: 0.1680338 (688)\ttotal: 18.3s\tremaining: 2.45s\n"
     ]
    },
    {
     "name": "stderr",
     "output_type": "stream",
     "text": [
      "\u001b[32m[I 2022-04-12 23:29:52,915]\u001b[0m Trial 8 finished with value: 0.13507625272331153 and parameters: {'learning_rate': 0.010189592979395137, 'bagging_temperature': 18.27450885981603, 'n_estimators': 795, 'max_depth': 10, 'random_strength': 77, 'colsample_bylevel': 0.44442679104045424, 'l2_leaf_reg': 1.0760387199042735e-05, 'min_child_samples': 16, 'max_bin': 459}. Best is trial 3 with value: 0.11658698050753953.\u001b[0m\n"
     ]
    },
    {
     "name": "stdout",
     "output_type": "stream",
     "text": [
      "Stopped by overfitting detector  (35 iterations wait)\n",
      "\n",
      "bestTest = 0.1680337561\n",
      "bestIteration = 688\n",
      "\n",
      "Shrink model to first 689 iterations.\n",
      "0:\tlearn: 0.2733207\ttest: 0.2732850\ttest1: 0.2641562\tbest: 0.2641562 (0)\ttotal: 32ms\tremaining: 11s\n",
      "100:\tlearn: 0.1493641\ttest: 0.1514877\ttest1: 0.1754447\tbest: 0.1748364 (99)\ttotal: 2.92s\tremaining: 7.04s\n"
     ]
    },
    {
     "name": "stderr",
     "output_type": "stream",
     "text": [
      "\u001b[32m[I 2022-04-12 23:29:57,164]\u001b[0m Trial 9 finished with value: 0.13140794223826713 and parameters: {'learning_rate': 0.08330803890301997, 'bagging_temperature': 0.2106648601704221, 'n_estimators': 344, 'max_depth': 6, 'random_strength': 32, 'colsample_bylevel': 0.8377637070028385, 'l2_leaf_reg': 1.913034856594284e-05, 'min_child_samples': 90, 'max_bin': 342}. Best is trial 3 with value: 0.11658698050753953.\u001b[0m\n"
     ]
    },
    {
     "name": "stdout",
     "output_type": "stream",
     "text": [
      "Stopped by overfitting detector  (35 iterations wait)\n",
      "\n",
      "bestTest = 0.174836441\n",
      "bestIteration = 99\n",
      "\n",
      "Shrink model to first 100 iterations.\n"
     ]
    }
   ],
   "source": [
    "sampler = TPESampler(seed=42)\n",
    "study = optuna.create_study(\n",
    "    direction = 'minimize',\n",
    "    sampler = sampler,\n",
    "    study_name='example-study',\n",
    "    storage='sqlite:///example.db',\n",
    "    load_if_exists=True)\n",
    "study.optimize(objective, n_trials=10)\n"
   ]
  },
  {
   "cell_type": "code",
   "execution_count": 122,
   "metadata": {},
   "outputs": [],
   "source": [
    "feature = ['Gender', 'Lenght', 'Diameter', 'Height', \n",
    "             'Whole Weight','Shucked Weight', 'Viscra Weight', 'Shell Weight',\n",
    "             'Shell Percent', 'Viscra Percent', 'Shucked Percent',              \n",
    "             'differ_weight_percent']\n",
    "\n",
    "X= df_train[feature]\n",
    "y = df_train['Target_log']"
   ]
  },
  {
   "cell_type": "code",
   "execution_count": 123,
   "metadata": {
    "scrolled": false
   },
   "outputs": [
    {
     "name": "stderr",
     "output_type": "stream",
     "text": [
      "\u001b[32m[I 2022-04-01 14:03:01,570]\u001b[0m A new study created in memory with name: no-name-f63f6629-fa25-4912-b423-7896ac31a8f1\u001b[0m\n"
     ]
    },
    {
     "name": "stdout",
     "output_type": "stream",
     "text": [
      "0:\tlearn: 0.3051154\ttest: 0.3051154\ttest1: 0.3395686\tbest: 0.3395686 (0)\ttotal: 10.8ms\tremaining: 8.81s\n",
      "100:\tlearn: 0.1649111\ttest: 0.1682418\ttest1: 0.2092939\tbest: 0.2092939 (100)\ttotal: 3.25s\tremaining: 22.9s\n",
      "200:\tlearn: 0.1474577\ttest: 0.1543148\ttest1: 0.2053402\tbest: 0.2052178 (177)\ttotal: 6.31s\tremaining: 19.2s\n"
     ]
    },
    {
     "name": "stderr",
     "output_type": "stream",
     "text": [
      "\u001b[32m[I 2022-04-01 14:03:08,299]\u001b[0m Trial 0 finished with value: 0.15953150242326333 and parameters: {'learning_rate': 0.03574712922600244, 'bagging_temperature': 63.512210106407046, 'n_estimators': 813, 'max_depth': 9, 'random_strength': 15, 'colsample_bylevel': 0.49359671220172163, 'l2_leaf_reg': 1.7519275289243016e-06, 'min_child_samples': 88, 'max_bin': 380}. Best is trial 0 with value: 0.15953150242326333.\u001b[0m\n"
     ]
    },
    {
     "name": "stdout",
     "output_type": "stream",
     "text": [
      "Stopped by overfitting detector  (35 iterations wait)\n",
      "\n",
      "bestTest = 0.205217783\n",
      "bestIteration = 177\n",
      "\n",
      "Shrink model to first 178 iterations.\n",
      "0:\tlearn: 0.3064307\ttest: 0.3064307\ttest1: 0.3036795\tbest: 0.3036795 (0)\ttotal: 564us\tremaining: 552ms\n",
      "100:\tlearn: 0.1017845\ttest: 0.1163661\ttest1: 0.1893228\tbest: 0.1858891 (79)\ttotal: 3.78s\tremaining: 32.9s\n"
     ]
    },
    {
     "name": "stderr",
     "output_type": "stream",
     "text": [
      "\u001b[32m[I 2022-04-01 14:03:12,948]\u001b[0m Trial 1 finished with value: 0.14245585874799357 and parameters: {'learning_rate': 0.11114989443094977, 'bagging_temperature': 0.012087541473056965, 'n_estimators': 979, 'max_depth': 11, 'random_strength': 21, 'colsample_bylevel': 0.5090949803242604, 'l2_leaf_reg': 5.51030125050448e-06, 'min_child_samples': 34, 'max_bin': 357}. Best is trial 1 with value: 0.14245585874799357.\u001b[0m\n"
     ]
    },
    {
     "name": "stdout",
     "output_type": "stream",
     "text": [
      "Stopped by overfitting detector  (35 iterations wait)\n",
      "\n",
      "bestTest = 0.1858890552\n",
      "bestIteration = 79\n",
      "\n",
      "Shrink model to first 80 iterations.\n",
      "0:\tlearn: 0.3009633\ttest: 0.3009633\ttest1: 0.3361902\tbest: 0.3361902 (0)\ttotal: 1.24ms\tremaining: 901ms\n",
      "100:\tlearn: 0.1845838\ttest: 0.1859684\ttest1: 0.2158823\tbest: 0.2158823 (100)\ttotal: 1.92s\tremaining: 11.9s\n",
      "200:\tlearn: 0.1699759\ttest: 0.1722579\ttest1: 0.2041847\tbest: 0.2041847 (200)\ttotal: 3.94s\tremaining: 10.3s\n"
     ]
    },
    {
     "name": "stderr",
     "output_type": "stream",
     "text": [
      "\u001b[32m[I 2022-04-01 14:03:18,947]\u001b[0m Trial 2 finished with value: 0.15351894818252126 and parameters: {'learning_rate': 0.04345454109729477, 'bagging_temperature': 0.14618962793704965, 'n_estimators': 728, 'max_depth': 5, 'random_strength': 29, 'colsample_bylevel': 0.619817105976215, 'l2_leaf_reg': 1.3687538826668908e-05, 'min_child_samples': 80, 'max_bin': 260}. Best is trial 1 with value: 0.14245585874799357.\u001b[0m\n"
     ]
    },
    {
     "name": "stdout",
     "output_type": "stream",
     "text": [
      "Stopped by overfitting detector  (35 iterations wait)\n",
      "\n",
      "bestTest = 0.1994975481\n",
      "bestIteration = 262\n",
      "\n",
      "Shrink model to first 263 iterations.\n",
      "0:\tlearn: 0.3100098\ttest: 0.3100066\ttest1: 0.2903455\tbest: 0.2903455 (0)\ttotal: 51.9ms\tremaining: 17.2s\n",
      "100:\tlearn: 0.1581876\ttest: 0.1635260\ttest1: 0.1926356\tbest: 0.1926281 (80)\ttotal: 3.04s\tremaining: 6.95s\n"
     ]
    },
    {
     "name": "stderr",
     "output_type": "stream",
     "text": [
      "\u001b[32m[I 2022-04-01 14:03:23,840]\u001b[0m Trial 3 finished with value: 0.1437776882803061 and parameters: {'learning_rate': 0.05748924681991978, 'bagging_temperature': 2.342384984711291, 'n_estimators': 332, 'max_depth': 9, 'random_strength': 17, 'colsample_bylevel': 0.43903095579116774, 'l2_leaf_reg': 2.8467077262227466e-05, 'min_child_samples': 97, 'max_bin': 443}. Best is trial 1 with value: 0.14245585874799357.\u001b[0m\n"
     ]
    },
    {
     "name": "stdout",
     "output_type": "stream",
     "text": [
      "Stopped by overfitting detector  (35 iterations wait)\n",
      "\n",
      "bestTest = 0.1920606552\n",
      "bestIteration = 118\n",
      "\n",
      "Shrink model to first 119 iterations.\n",
      "0:\tlearn: 0.3105171\ttest: 0.3106059\ttest1: 0.3075509\tbest: 0.3075509 (0)\ttotal: 26ms\tremaining: 20.2s\n",
      "100:\tlearn: 0.1884824\ttest: 0.1904944\ttest1: 0.1861557\tbest: 0.1861557 (100)\ttotal: 3.47s\tremaining: 23.3s\n",
      "200:\tlearn: 0.1688050\ttest: 0.1719498\ttest1: 0.1783981\tbest: 0.1783981 (200)\ttotal: 6.77s\tremaining: 19.5s\n"
     ]
    },
    {
     "name": "stderr",
     "output_type": "stream",
     "text": [
      "\u001b[32m[I 2022-04-01 14:03:32,664]\u001b[0m Trial 4 finished with value: 0.13812832039231712 and parameters: {'learning_rate': 0.028180680291847244, 'bagging_temperature': 0.024586032763280065, 'n_estimators': 779, 'max_depth': 7, 'random_strength': 12, 'colsample_bylevel': 0.6971061460667621, 'l2_leaf_reg': 1.0413117482453996e-06, 'min_child_samples': 92, 'max_bin': 277}. Best is trial 4 with value: 0.13812832039231712.\u001b[0m\n"
     ]
    },
    {
     "name": "stdout",
     "output_type": "stream",
     "text": [
      "Stopped by overfitting detector  (35 iterations wait)\n",
      "\n",
      "bestTest = 0.178030865\n",
      "bestIteration = 221\n",
      "\n",
      "Shrink model to first 222 iterations.\n",
      "0:\tlearn: 0.3041462\ttest: 0.3041462\ttest1: 0.2885466\tbest: 0.2885466 (0)\ttotal: 55.5ms\tremaining: 36.8s\n",
      "100:\tlearn: 0.1564916\ttest: 0.1615225\ttest1: 0.1706932\tbest: 0.1706932 (100)\ttotal: 5.17s\tremaining: 28.8s\n"
     ]
    },
    {
     "name": "stderr",
     "output_type": "stream",
     "text": [
      "\u001b[32m[I 2022-04-01 14:03:40,785]\u001b[0m Trial 5 finished with value: 0.12921125644074513 and parameters: {'learning_rate': 0.09519754482692679, 'bagging_temperature': 0.17654048052495078, 'n_estimators': 664, 'max_depth': 8, 'random_strength': 18, 'colsample_bylevel': 0.9817507766587351, 'l2_leaf_reg': 2.3256233372599825e-05, 'min_child_samples': 95, 'max_bin': 469}. Best is trial 5 with value: 0.12921125644074513.\u001b[0m\n"
     ]
    },
    {
     "name": "stdout",
     "output_type": "stream",
     "text": [
      "Stopped by overfitting detector  (35 iterations wait)\n",
      "\n",
      "bestTest = 0.1701190749\n",
      "bestIteration = 108\n",
      "\n",
      "Shrink model to first 109 iterations.\n",
      "0:\tlearn: 0.3031085\ttest: 0.3031085\ttest1: 0.3141401\tbest: 0.3141401 (0)\ttotal: 19.5ms\tremaining: 7.04s\n",
      "100:\tlearn: 0.1674409\ttest: 0.1689564\ttest1: 0.1873258\tbest: 0.1873258 (100)\ttotal: 2.49s\tremaining: 6.43s\n"
     ]
    },
    {
     "name": "stderr",
     "output_type": "stream",
     "text": [
      "\u001b[32m[I 2022-04-01 14:03:44,947]\u001b[0m Trial 6 finished with value: 0.14749498997995994 and parameters: {'learning_rate': 0.0764136186923332, 'bagging_temperature': 48.696409415209004, 'n_estimators': 362, 'max_depth': 5, 'random_strength': 4, 'colsample_bylevel': 0.5951981984579586, 'l2_leaf_reg': 1.1666431917787565e-05, 'min_child_samples': 31, 'max_bin': 449}. Best is trial 5 with value: 0.12921125644074513.\u001b[0m\n"
     ]
    },
    {
     "name": "stdout",
     "output_type": "stream",
     "text": [
      "Stopped by overfitting detector  (35 iterations wait)\n",
      "\n",
      "bestTest = 0.1856664454\n",
      "bestIteration = 125\n",
      "\n",
      "Shrink model to first 126 iterations.\n",
      "0:\tlearn: 0.3051871\ttest: 0.3051871\ttest1: 0.3341238\tbest: 0.3341238 (0)\ttotal: 51.4ms\tremaining: 34.9s\n",
      "100:\tlearn: 0.1898531\ttest: 0.1907831\ttest1: 0.2077570\tbest: 0.2077570 (100)\ttotal: 1.4s\tremaining: 8.01s\n",
      "200:\tlearn: 0.1746015\ttest: 0.1765849\ttest1: 0.1969233\tbest: 0.1969233 (200)\ttotal: 2.88s\tremaining: 6.88s\n",
      "300:\tlearn: 0.1684797\ttest: 0.1709965\ttest1: 0.1942067\tbest: 0.1941734 (292)\ttotal: 4.21s\tremaining: 5.3s\n"
     ]
    },
    {
     "name": "stderr",
     "output_type": "stream",
     "text": [
      "\u001b[32m[I 2022-04-01 14:03:50,011]\u001b[0m Trial 7 finished with value: 0.14729950900163666 and parameters: {'learning_rate': 0.03364867144187954, 'bagging_temperature': 0.13296521457299515, 'n_estimators': 680, 'max_depth': 5, 'random_strength': 81, 'colsample_bylevel': 0.44473038620786254, 'l2_leaf_reg': 2.9606739228649516e-05, 'min_child_samples': 79, 'max_bin': 259}. Best is trial 5 with value: 0.12921125644074513.\u001b[0m\n"
     ]
    },
    {
     "name": "stdout",
     "output_type": "stream",
     "text": [
      "Stopped by overfitting detector  (35 iterations wait)\n",
      "\n",
      "bestTest = 0.1940956599\n",
      "bestIteration = 315\n",
      "\n",
      "Shrink model to first 316 iterations.\n",
      "0:\tlearn: 0.3137252\ttest: 0.3136970\ttest1: 0.3117149\tbest: 0.3117149 (0)\ttotal: 44.7ms\tremaining: 35.5s\n",
      "100:\tlearn: 0.2363348\ttest: 0.2377050\ttest1: 0.2455688\tbest: 0.2455688 (100)\ttotal: 2.3s\tremaining: 15.8s\n",
      "200:\tlearn: 0.1926638\ttest: 0.1958310\ttest1: 0.2133148\tbest: 0.2133148 (200)\ttotal: 5.2s\tremaining: 15.4s\n",
      "300:\tlearn: 0.1749736\ttest: 0.1795211\ttest1: 0.2029941\tbest: 0.2029941 (300)\ttotal: 8.08s\tremaining: 13.3s\n",
      "400:\tlearn: 0.1650190\ttest: 0.1706240\ttest1: 0.1987526\tbest: 0.1987526 (400)\ttotal: 11s\tremaining: 10.8s\n",
      "500:\tlearn: 0.1593845\ttest: 0.1657070\ttest1: 0.1968761\tbest: 0.1968760 (499)\ttotal: 13.6s\tremaining: 7.97s\n",
      "600:\tlearn: 0.1546993\ttest: 0.1618556\ttest1: 0.1957212\tbest: 0.1957212 (600)\ttotal: 16.2s\tremaining: 5.23s\n",
      "700:\tlearn: 0.1496029\ttest: 0.1578945\ttest1: 0.1948840\tbest: 0.1948840 (700)\ttotal: 19.2s\tremaining: 2.58s\n"
     ]
    },
    {
     "name": "stderr",
     "output_type": "stream",
     "text": [
      "\u001b[32m[I 2022-04-01 14:04:11,838]\u001b[0m Trial 8 finished with value: 0.1463610776035384 and parameters: {'learning_rate': 0.010189592979395137, 'bagging_temperature': 18.27450885981603, 'n_estimators': 795, 'max_depth': 10, 'random_strength': 77, 'colsample_bylevel': 0.44442679104045424, 'l2_leaf_reg': 1.0760387199042735e-05, 'min_child_samples': 16, 'max_bin': 459}. Best is trial 5 with value: 0.12921125644074513.\u001b[0m\n"
     ]
    },
    {
     "name": "stdout",
     "output_type": "stream",
     "text": [
      "794:\tlearn: 0.1460000\ttest: 0.1552197\ttest1: 0.1943359\tbest: 0.1943359 (794)\ttotal: 21.6s\tremaining: 0us\n",
      "\n",
      "bestTest = 0.1943359309\n",
      "bestIteration = 794\n",
      "\n",
      "0:\tlearn: 0.3059725\ttest: 0.3059725\ttest1: 0.2797779\tbest: 0.2797779 (0)\ttotal: 39.9ms\tremaining: 13.7s\n",
      "100:\tlearn: 0.1665384\ttest: 0.1690093\ttest1: 0.1939589\tbest: 0.1939589 (100)\ttotal: 3.16s\tremaining: 7.6s\n"
     ]
    },
    {
     "name": "stderr",
     "output_type": "stream",
     "text": [
      "\u001b[32m[I 2022-04-01 14:04:17,417]\u001b[0m Trial 9 finished with value: 0.1440781440781441 and parameters: {'learning_rate': 0.08330803890301997, 'bagging_temperature': 0.2106648601704221, 'n_estimators': 344, 'max_depth': 6, 'random_strength': 32, 'colsample_bylevel': 0.8377637070028385, 'l2_leaf_reg': 1.913034856594284e-05, 'min_child_samples': 90, 'max_bin': 342}. Best is trial 5 with value: 0.12921125644074513.\u001b[0m\n"
     ]
    },
    {
     "name": "stdout",
     "output_type": "stream",
     "text": [
      "Stopped by overfitting detector  (35 iterations wait)\n",
      "\n",
      "bestTest = 0.1938011161\n",
      "bestIteration = 125\n",
      "\n",
      "Shrink model to first 126 iterations.\n",
      "Best Score: 0.12921125644074513\n",
      "Best trial {'learning_rate': 0.09519754482692679, 'bagging_temperature': 0.17654048052495078, 'n_estimators': 664, 'max_depth': 8, 'random_strength': 18, 'colsample_bylevel': 0.9817507766587351, 'l2_leaf_reg': 2.3256233372599825e-05, 'min_child_samples': 95, 'max_bin': 469}\n"
     ]
    }
   ],
   "source": [
    "sampler = TPESampler(seed=42)\n",
    "study = optuna.create_study(direction = 'minimize',sampler = sampler)\n",
    "study.optimize(objective, n_trials=10)\n",
    "\n",
    "print(\"Best Score:\",study.best_value)\n",
    "print(\"Best trial\",study.best_trial.params)"
   ]
  },
  {
   "cell_type": "code",
   "execution_count": 17,
   "metadata": {},
   "outputs": [],
   "source": [
    "from sklearn.model_selection import KFold"
   ]
  },
  {
   "cell_type": "code",
   "execution_count": 18,
   "metadata": {},
   "outputs": [],
   "source": [
    "kfold = KFold(n_splits=5, shuffle=True, random_state=42)\n",
    "folds = []"
   ]
  },
  {
   "cell_type": "code",
   "execution_count": 19,
   "metadata": {},
   "outputs": [],
   "source": [
    "for train_idx, valid_idx in kfold.split(X, y):\n",
    "    folds.append((train_idx, valid_idx))"
   ]
  },
  {
   "cell_type": "code",
   "execution_count": 20,
   "metadata": {},
   "outputs": [
    {
     "name": "stdout",
     "output_type": "stream",
     "text": [
      "====================================1============================================\n",
      "0:\tlearn: 0.3067776\ttest: 0.3067776\ttest1: 0.3041877\tbest: 0.3041877 (0)\ttotal: 56.7ms\tremaining: 18.8s\n",
      "100:\tlearn: 0.1508475\ttest: 0.1574038\ttest1: 0.1919944\tbest: 0.1913611 (77)\ttotal: 3.5s\tremaining: 8.01s\n",
      "Stopped by overfitting detector  (35 iterations wait)\n",
      "\n",
      "bestTest = 0.1913611287\n",
      "bestIteration = 77\n",
      "\n",
      "Shrink model to first 78 iterations.\n",
      "================================================================================\n",
      "\n",
      "\n",
      "====================================2============================================\n",
      "0:\tlearn: 0.3148633\ttest: 0.3148633\ttest1: 0.3092885\tbest: 0.3092885 (0)\ttotal: 3.51ms\tremaining: 1.16s\n",
      "100:\tlearn: 0.1538524\ttest: 0.1600203\ttest1: 0.1826653\tbest: 0.1824938 (92)\ttotal: 3.64s\tremaining: 8.33s\n",
      "Stopped by overfitting detector  (35 iterations wait)\n",
      "\n",
      "bestTest = 0.1824938178\n",
      "bestIteration = 92\n",
      "\n",
      "Shrink model to first 93 iterations.\n",
      "================================================================================\n",
      "\n",
      "\n",
      "====================================3============================================\n",
      "0:\tlearn: 0.3129336\ttest: 0.3129336\ttest1: 0.3000019\tbest: 0.3000019 (0)\ttotal: 27.7ms\tremaining: 9.17s\n",
      "100:\tlearn: 0.1551750\ttest: 0.1598044\ttest1: 0.1924143\tbest: 0.1923025 (98)\ttotal: 3.44s\tremaining: 7.87s\n",
      "Stopped by overfitting detector  (35 iterations wait)\n",
      "\n",
      "bestTest = 0.1922132119\n",
      "bestIteration = 131\n",
      "\n",
      "Shrink model to first 132 iterations.\n",
      "================================================================================\n",
      "\n",
      "\n",
      "====================================4============================================\n",
      "0:\tlearn: 0.3136703\ttest: 0.3136703\ttest1: 0.2960661\tbest: 0.2960661 (0)\ttotal: 536us\tremaining: 178ms\n",
      "100:\tlearn: 0.1537784\ttest: 0.1607382\ttest1: 0.1857853\tbest: 0.1857853 (100)\ttotal: 3.09s\tremaining: 7.08s\n",
      "200:\tlearn: 0.1136780\ttest: 0.1238150\ttest1: 0.1824040\tbest: 0.1819866 (196)\ttotal: 6.48s\tremaining: 4.22s\n",
      "Stopped by overfitting detector  (35 iterations wait)\n",
      "\n",
      "bestTest = 0.1816048519\n",
      "bestIteration = 223\n",
      "\n",
      "Shrink model to first 224 iterations.\n",
      "================================================================================\n",
      "\n",
      "\n",
      "====================================5============================================\n",
      "0:\tlearn: 0.3011880\ttest: 0.3011880\ttest1: 0.3443591\tbest: 0.3443591 (0)\ttotal: 555us\tremaining: 184ms\n",
      "100:\tlearn: 0.1573776\ttest: 0.1619384\ttest1: 0.1970082\tbest: 0.1970082 (100)\ttotal: 2.77s\tremaining: 6.33s\n",
      "200:\tlearn: 0.1148963\ttest: 0.1233152\ttest1: 0.1942215\tbest: 0.1934231 (172)\ttotal: 6.28s\tremaining: 4.09s\n",
      "Stopped by overfitting detector  (35 iterations wait)\n",
      "\n",
      "bestTest = 0.1934231302\n",
      "bestIteration = 172\n",
      "\n",
      "Shrink model to first 173 iterations.\n",
      "================================================================================\n",
      "\n",
      "\n"
     ]
    }
   ],
   "source": [
    "cat_models={}\n",
    "\n",
    "cat_features =[0]\n",
    "\n",
    "for fold in range(5):\n",
    "    print(f'===================================={fold+1}============================================')\n",
    "    train_idx, valid_idx = folds[fold]\n",
    "    X_train = X.iloc[train_idx].values \n",
    "    X_valid = X.iloc[valid_idx].values\n",
    "    y_train = y.iloc[train_idx].values\n",
    "    y_valid = y.iloc[valid_idx].values\n",
    "\n",
    "    cat = CatBoostRegressor(**study.best_params)\n",
    "    cat.fit(X_train, y_train,\n",
    "            eval_set=[(X_train, y_train), (X_valid,y_valid)],\n",
    "            early_stopping_rounds=35,cat_features=cat_features,\n",
    "            verbose=100)\n",
    "    cat_models[fold] = cat\n",
    "    print(f'================================================================================\\n\\n')"
   ]
  },
  {
   "cell_type": "code",
   "execution_count": 21,
   "metadata": {},
   "outputs": [],
   "source": [
    "submit_test = pd.read_csv('data/sample_submission.csv')"
   ]
  },
  {
   "cell_type": "code",
   "execution_count": 22,
   "metadata": {},
   "outputs": [
    {
     "data": {
      "text/html": [
       "<div>\n",
       "<style scoped>\n",
       "    .dataframe tbody tr th:only-of-type {\n",
       "        vertical-align: middle;\n",
       "    }\n",
       "\n",
       "    .dataframe tbody tr th {\n",
       "        vertical-align: top;\n",
       "    }\n",
       "\n",
       "    .dataframe thead th {\n",
       "        text-align: right;\n",
       "    }\n",
       "</style>\n",
       "<table border=\"1\" class=\"dataframe\">\n",
       "  <thead>\n",
       "    <tr style=\"text-align: right;\">\n",
       "      <th></th>\n",
       "      <th>Gender</th>\n",
       "      <th>Lenght</th>\n",
       "      <th>Diameter</th>\n",
       "      <th>Height</th>\n",
       "      <th>Whole Weight</th>\n",
       "      <th>Shucked Weight</th>\n",
       "      <th>Viscra Weight</th>\n",
       "      <th>Shell Weight</th>\n",
       "      <th>Shell Percent</th>\n",
       "      <th>Viscra Percent</th>\n",
       "      <th>Shucked Percent</th>\n",
       "      <th>ratio_1</th>\n",
       "      <th>weight ratio_9</th>\n",
       "      <th>differ_weight_percent</th>\n",
       "    </tr>\n",
       "  </thead>\n",
       "  <tbody>\n",
       "    <tr>\n",
       "      <th>0</th>\n",
       "      <td>F</td>\n",
       "      <td>0.595</td>\n",
       "      <td>0.470</td>\n",
       "      <td>0.155</td>\n",
       "      <td>1.1210</td>\n",
       "      <td>0.4515</td>\n",
       "      <td>0.1780</td>\n",
       "      <td>0.1550</td>\n",
       "      <td>0.138269</td>\n",
       "      <td>0.158787</td>\n",
       "      <td>0.402765</td>\n",
       "      <td>0.329787</td>\n",
       "      <td>0.561552</td>\n",
       "      <td>0.300178</td>\n",
       "    </tr>\n",
       "    <tr>\n",
       "      <th>1</th>\n",
       "      <td>M</td>\n",
       "      <td>0.580</td>\n",
       "      <td>0.450</td>\n",
       "      <td>0.150</td>\n",
       "      <td>0.9270</td>\n",
       "      <td>0.2760</td>\n",
       "      <td>0.1815</td>\n",
       "      <td>0.3600</td>\n",
       "      <td>0.388350</td>\n",
       "      <td>0.195793</td>\n",
       "      <td>0.297735</td>\n",
       "      <td>0.333333</td>\n",
       "      <td>0.493528</td>\n",
       "      <td>0.118123</td>\n",
       "    </tr>\n",
       "    <tr>\n",
       "      <th>2</th>\n",
       "      <td>I</td>\n",
       "      <td>0.260</td>\n",
       "      <td>0.205</td>\n",
       "      <td>0.070</td>\n",
       "      <td>0.0970</td>\n",
       "      <td>0.0415</td>\n",
       "      <td>0.0190</td>\n",
       "      <td>0.0305</td>\n",
       "      <td>0.314433</td>\n",
       "      <td>0.195876</td>\n",
       "      <td>0.427835</td>\n",
       "      <td>0.341463</td>\n",
       "      <td>0.623711</td>\n",
       "      <td>0.061856</td>\n",
       "    </tr>\n",
       "    <tr>\n",
       "      <th>3</th>\n",
       "      <td>M</td>\n",
       "      <td>0.590</td>\n",
       "      <td>0.460</td>\n",
       "      <td>0.130</td>\n",
       "      <td>1.1020</td>\n",
       "      <td>0.4550</td>\n",
       "      <td>0.2055</td>\n",
       "      <td>0.3300</td>\n",
       "      <td>0.299456</td>\n",
       "      <td>0.186479</td>\n",
       "      <td>0.412886</td>\n",
       "      <td>0.282609</td>\n",
       "      <td>0.599365</td>\n",
       "      <td>0.101180</td>\n",
       "    </tr>\n",
       "    <tr>\n",
       "      <th>4</th>\n",
       "      <td>F</td>\n",
       "      <td>0.595</td>\n",
       "      <td>0.465</td>\n",
       "      <td>0.140</td>\n",
       "      <td>1.1130</td>\n",
       "      <td>0.5175</td>\n",
       "      <td>0.2440</td>\n",
       "      <td>0.3050</td>\n",
       "      <td>0.274034</td>\n",
       "      <td>0.219227</td>\n",
       "      <td>0.464960</td>\n",
       "      <td>0.301075</td>\n",
       "      <td>0.684187</td>\n",
       "      <td>0.041779</td>\n",
       "    </tr>\n",
       "    <tr>\n",
       "      <th>...</th>\n",
       "      <td>...</td>\n",
       "      <td>...</td>\n",
       "      <td>...</td>\n",
       "      <td>...</td>\n",
       "      <td>...</td>\n",
       "      <td>...</td>\n",
       "      <td>...</td>\n",
       "      <td>...</td>\n",
       "      <td>...</td>\n",
       "      <td>...</td>\n",
       "      <td>...</td>\n",
       "      <td>...</td>\n",
       "      <td>...</td>\n",
       "      <td>...</td>\n",
       "    </tr>\n",
       "    <tr>\n",
       "      <th>2919</th>\n",
       "      <td>I</td>\n",
       "      <td>0.170</td>\n",
       "      <td>0.105</td>\n",
       "      <td>0.035</td>\n",
       "      <td>0.0340</td>\n",
       "      <td>0.0120</td>\n",
       "      <td>0.0085</td>\n",
       "      <td>0.0050</td>\n",
       "      <td>0.147059</td>\n",
       "      <td>0.250000</td>\n",
       "      <td>0.352941</td>\n",
       "      <td>0.333333</td>\n",
       "      <td>0.602941</td>\n",
       "      <td>0.250000</td>\n",
       "    </tr>\n",
       "    <tr>\n",
       "      <th>2920</th>\n",
       "      <td>I</td>\n",
       "      <td>0.435</td>\n",
       "      <td>0.345</td>\n",
       "      <td>0.115</td>\n",
       "      <td>0.4180</td>\n",
       "      <td>0.2220</td>\n",
       "      <td>0.0735</td>\n",
       "      <td>0.1060</td>\n",
       "      <td>0.253589</td>\n",
       "      <td>0.175837</td>\n",
       "      <td>0.531100</td>\n",
       "      <td>0.333333</td>\n",
       "      <td>0.706938</td>\n",
       "      <td>0.039474</td>\n",
       "    </tr>\n",
       "    <tr>\n",
       "      <th>2921</th>\n",
       "      <td>I</td>\n",
       "      <td>0.570</td>\n",
       "      <td>0.450</td>\n",
       "      <td>0.135</td>\n",
       "      <td>0.7940</td>\n",
       "      <td>0.3815</td>\n",
       "      <td>0.1415</td>\n",
       "      <td>0.2450</td>\n",
       "      <td>0.308564</td>\n",
       "      <td>0.178212</td>\n",
       "      <td>0.480479</td>\n",
       "      <td>0.300000</td>\n",
       "      <td>0.658690</td>\n",
       "      <td>0.032746</td>\n",
       "    </tr>\n",
       "    <tr>\n",
       "      <th>2922</th>\n",
       "      <td>I</td>\n",
       "      <td>0.460</td>\n",
       "      <td>0.350</td>\n",
       "      <td>0.120</td>\n",
       "      <td>0.4885</td>\n",
       "      <td>0.1930</td>\n",
       "      <td>0.1050</td>\n",
       "      <td>0.1550</td>\n",
       "      <td>0.317298</td>\n",
       "      <td>0.214944</td>\n",
       "      <td>0.395087</td>\n",
       "      <td>0.342857</td>\n",
       "      <td>0.610031</td>\n",
       "      <td>0.072671</td>\n",
       "    </tr>\n",
       "    <tr>\n",
       "      <th>2923</th>\n",
       "      <td>F</td>\n",
       "      <td>0.565</td>\n",
       "      <td>0.440</td>\n",
       "      <td>0.160</td>\n",
       "      <td>0.9150</td>\n",
       "      <td>0.3540</td>\n",
       "      <td>0.1935</td>\n",
       "      <td>0.3200</td>\n",
       "      <td>0.349727</td>\n",
       "      <td>0.211475</td>\n",
       "      <td>0.386885</td>\n",
       "      <td>0.363636</td>\n",
       "      <td>0.598361</td>\n",
       "      <td>0.051913</td>\n",
       "    </tr>\n",
       "  </tbody>\n",
       "</table>\n",
       "<p>2924 rows × 14 columns</p>\n",
       "</div>"
      ],
      "text/plain": [
       "     Gender  Lenght  Diameter  Height  Whole Weight  Shucked Weight  \\\n",
       "0         F   0.595     0.470   0.155        1.1210          0.4515   \n",
       "1         M   0.580     0.450   0.150        0.9270          0.2760   \n",
       "2         I   0.260     0.205   0.070        0.0970          0.0415   \n",
       "3         M   0.590     0.460   0.130        1.1020          0.4550   \n",
       "4         F   0.595     0.465   0.140        1.1130          0.5175   \n",
       "...     ...     ...       ...     ...           ...             ...   \n",
       "2919      I   0.170     0.105   0.035        0.0340          0.0120   \n",
       "2920      I   0.435     0.345   0.115        0.4180          0.2220   \n",
       "2921      I   0.570     0.450   0.135        0.7940          0.3815   \n",
       "2922      I   0.460     0.350   0.120        0.4885          0.1930   \n",
       "2923      F   0.565     0.440   0.160        0.9150          0.3540   \n",
       "\n",
       "      Viscra Weight  Shell Weight  Shell Percent  Viscra Percent  \\\n",
       "0            0.1780        0.1550       0.138269        0.158787   \n",
       "1            0.1815        0.3600       0.388350        0.195793   \n",
       "2            0.0190        0.0305       0.314433        0.195876   \n",
       "3            0.2055        0.3300       0.299456        0.186479   \n",
       "4            0.2440        0.3050       0.274034        0.219227   \n",
       "...             ...           ...            ...             ...   \n",
       "2919         0.0085        0.0050       0.147059        0.250000   \n",
       "2920         0.0735        0.1060       0.253589        0.175837   \n",
       "2921         0.1415        0.2450       0.308564        0.178212   \n",
       "2922         0.1050        0.1550       0.317298        0.214944   \n",
       "2923         0.1935        0.3200       0.349727        0.211475   \n",
       "\n",
       "      Shucked Percent   ratio_1  weight ratio_9  differ_weight_percent  \n",
       "0            0.402765  0.329787        0.561552               0.300178  \n",
       "1            0.297735  0.333333        0.493528               0.118123  \n",
       "2            0.427835  0.341463        0.623711               0.061856  \n",
       "3            0.412886  0.282609        0.599365               0.101180  \n",
       "4            0.464960  0.301075        0.684187               0.041779  \n",
       "...               ...       ...             ...                    ...  \n",
       "2919         0.352941  0.333333        0.602941               0.250000  \n",
       "2920         0.531100  0.333333        0.706938               0.039474  \n",
       "2921         0.480479  0.300000        0.658690               0.032746  \n",
       "2922         0.395087  0.342857        0.610031               0.072671  \n",
       "2923         0.386885  0.363636        0.598361               0.051913  \n",
       "\n",
       "[2924 rows x 14 columns]"
      ]
     },
     "execution_count": 22,
     "metadata": {},
     "output_type": "execute_result"
    }
   ],
   "source": [
    "## test데이터셋 5fold 학습하여 평균 \n",
    "df_test = data_preprocess(test,True)\n",
    "df_test[feature]"
   ]
  },
  {
   "cell_type": "code",
   "execution_count": 23,
   "metadata": {
    "scrolled": false
   },
   "outputs": [],
   "source": [
    "submit_test.iloc[:,1:]=0\n",
    "\n",
    "for fold in range(5) : \n",
    "    submit_test.iloc[:,1] += cat_models[fold].predict(df_test[feature])/5"
   ]
  },
  {
   "cell_type": "code",
   "execution_count": 24,
   "metadata": {},
   "outputs": [
    {
     "data": {
      "text/html": [
       "<div>\n",
       "<style scoped>\n",
       "    .dataframe tbody tr th:only-of-type {\n",
       "        vertical-align: middle;\n",
       "    }\n",
       "\n",
       "    .dataframe tbody tr th {\n",
       "        vertical-align: top;\n",
       "    }\n",
       "\n",
       "    .dataframe thead th {\n",
       "        text-align: right;\n",
       "    }\n",
       "</style>\n",
       "<table border=\"1\" class=\"dataframe\">\n",
       "  <thead>\n",
       "    <tr style=\"text-align: right;\">\n",
       "      <th></th>\n",
       "      <th>id</th>\n",
       "      <th>Target</th>\n",
       "    </tr>\n",
       "  </thead>\n",
       "  <tbody>\n",
       "    <tr>\n",
       "      <th>0</th>\n",
       "      <td>1</td>\n",
       "      <td>2.363000</td>\n",
       "    </tr>\n",
       "    <tr>\n",
       "      <th>1</th>\n",
       "      <td>2</td>\n",
       "      <td>2.597812</td>\n",
       "    </tr>\n",
       "    <tr>\n",
       "      <th>2</th>\n",
       "      <td>3</td>\n",
       "      <td>1.679858</td>\n",
       "    </tr>\n",
       "    <tr>\n",
       "      <th>3</th>\n",
       "      <td>4</td>\n",
       "      <td>2.426255</td>\n",
       "    </tr>\n",
       "    <tr>\n",
       "      <th>4</th>\n",
       "      <td>5</td>\n",
       "      <td>2.267091</td>\n",
       "    </tr>\n",
       "    <tr>\n",
       "      <th>...</th>\n",
       "      <td>...</td>\n",
       "      <td>...</td>\n",
       "    </tr>\n",
       "    <tr>\n",
       "      <th>2919</th>\n",
       "      <td>2920</td>\n",
       "      <td>1.471561</td>\n",
       "    </tr>\n",
       "    <tr>\n",
       "      <th>2920</th>\n",
       "      <td>2921</td>\n",
       "      <td>1.944186</td>\n",
       "    </tr>\n",
       "    <tr>\n",
       "      <th>2921</th>\n",
       "      <td>2922</td>\n",
       "      <td>2.227234</td>\n",
       "    </tr>\n",
       "    <tr>\n",
       "      <th>2922</th>\n",
       "      <td>2923</td>\n",
       "      <td>2.198858</td>\n",
       "    </tr>\n",
       "    <tr>\n",
       "      <th>2923</th>\n",
       "      <td>2924</td>\n",
       "      <td>2.472087</td>\n",
       "    </tr>\n",
       "  </tbody>\n",
       "</table>\n",
       "<p>2924 rows × 2 columns</p>\n",
       "</div>"
      ],
      "text/plain": [
       "        id    Target\n",
       "0        1  2.363000\n",
       "1        2  2.597812\n",
       "2        3  1.679858\n",
       "3        4  2.426255\n",
       "4        5  2.267091\n",
       "...    ...       ...\n",
       "2919  2920  1.471561\n",
       "2920  2921  1.944186\n",
       "2921  2922  2.227234\n",
       "2922  2923  2.198858\n",
       "2923  2924  2.472087\n",
       "\n",
       "[2924 rows x 2 columns]"
      ]
     },
     "execution_count": 24,
     "metadata": {},
     "output_type": "execute_result"
    }
   ],
   "source": [
    "submit_test"
   ]
  },
  {
   "cell_type": "code",
   "execution_count": null,
   "metadata": {},
   "outputs": [],
   "source": []
  }
 ],
 "metadata": {
  "kernelspec": {
   "display_name": "Python 3",
   "language": "python",
   "name": "python3"
  },
  "language_info": {
   "codemirror_mode": {
    "name": "ipython",
    "version": 3
   },
   "file_extension": ".py",
   "mimetype": "text/x-python",
   "name": "python",
   "nbconvert_exporter": "python",
   "pygments_lexer": "ipython3",
   "version": "3.8.5"
  }
 },
 "nbformat": 4,
 "nbformat_minor": 4
}

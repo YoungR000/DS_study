{
 "cells": [
  {
   "cell_type": "code",
   "execution_count": 406,
   "metadata": {},
   "outputs": [],
   "source": [
    "# 내가 DT를 짠것과 RF가 앙상블 한것이 어떤 차이가 있는지\n",
    "# 나만의 Decision tree를 여러개 구성해서 예측한 것과, 랜덤포레스트로 예측한 것의 결과 비교\n",
    "# 각 개성을 가진 DT 100개가 투표를 해서 x번 이상 투표 된것만 골라보기\n"
   ]
  },
  {
   "cell_type": "code",
   "execution_count": 407,
   "metadata": {},
   "outputs": [],
   "source": [
    "from sklearn.preprocessing import LabelEncoder\n",
    "from sklearn.model_selection import train_test_split\n",
    "from sklearn.tree import DecisionTreeClassifier\n",
    "\n",
    "from sklearn.model_selection import KFold\n",
    "\n",
    "\n",
    "from sklearn.ensemble import RandomForestClassifier\n",
    "\n",
    "from sklearn.metrics import accuracy_score\n",
    "from sklearn.model_selection import cross_val_score\n",
    "\n",
    "import numpy as np\n",
    "import pandas as pd\n",
    "import matplotlib.pyplot as plt\n",
    "import seaborn as sns\n",
    "\n"
   ]
  },
  {
   "cell_type": "code",
   "execution_count": 408,
   "metadata": {},
   "outputs": [],
   "source": [
    "# 사용할 변수 정의\n",
    "number_of_tree = 10"
   ]
  },
  {
   "cell_type": "code",
   "execution_count": 409,
   "metadata": {},
   "outputs": [],
   "source": [
    "#사용할 함수 정의\n",
    "\n",
    "# Null 처리 함수\n",
    "def fillna(df):\n",
    "    df['Age'].fillna(df['Age'].mean(),inplace=True)\n",
    "    df['Cabin'].fillna('N',inplace=True)\n",
    "    df['Embarked'].fillna('N',inplace=True)\n",
    "    df['Fare'].fillna(0,inplace=True)\n",
    "    return df\n",
    "\n",
    "# 머신러닝 알고리즘에 불필요한 속성 제거\n",
    "def drop_features(df):\n",
    "    df.drop(['PassengerId','Name','Ticket'],axis=1,inplace=True)\n",
    "    return df\n",
    "\n",
    "# 레이블 인코딩 수행. \n",
    "def format_features(df):\n",
    "    df['Cabin'] = df['Cabin'].str[:1]\n",
    "    features = ['Cabin','Sex','Embarked']\n",
    "    for feature in features:\n",
    "        le = LabelEncoder()\n",
    "        le = le.fit(df[feature])\n",
    "        df[feature] = le.transform(df[feature])\n",
    "    return df\n",
    "\n",
    "# 앞에서 설정한 Data Preprocessing 함수 호출\n",
    "def transform_features(df):\n",
    "    df = fillna(df)\n",
    "    df = drop_features(df)\n",
    "    df = format_features(df)\n",
    "    return df\n",
    "\n",
    "# k폴드 함수 선언\n",
    "def exec_kfold(clf, folds=5):\n",
    "    # 폴드 세트를 5개인 KFold객체를 생성, 폴드 수만큼 예측결과 저장을 위한  리스트 객체 생성.\n",
    "    kfold = KFold(n_splits=folds)\n",
    "    scores = []\n",
    "    \n",
    "    # KFold 교차 검증 수행. \n",
    "    for iter_count , (train_index, test_index) in enumerate(kfold.split(X_titanic_df)):\n",
    "        # X_titanic_df 데이터에서 교차 검증별로 학습과 검증 데이터를 가리키는 index 생성\n",
    "        X_train, X_test = X_titanic_df.values[train_index], X_titanic_df.values[test_index]\n",
    "        y_train, y_test = y_titanic_df.values[train_index], y_titanic_df.values[test_index]\n",
    "        \n",
    "        # Classifier 학습, 예측, 정확도 계산 \n",
    "        clf.fit(X_train, y_train) \n",
    "        predictions = clf.predict(X_test)\n",
    "        accuracy = accuracy_score(y_test, predictions)\n",
    "        scores.append(accuracy)\n",
    "        print(\"교차 검증 {0} 정확도: {1:.4f}\".format(iter_count, accuracy))     \n",
    "    \n",
    "    # 5개 fold에서의 평균 정확도 계산. \n",
    "    mean_score = np.mean(scores)\n",
    "    print(\"평균 정확도: {0:.4f}\".format(mean_score)) "
   ]
  },
  {
   "cell_type": "code",
   "execution_count": 410,
   "metadata": {},
   "outputs": [],
   "source": [
    "#데이터 재로딩 및 전처리\n",
    "\n",
    "train = pd.read_csv(\"./Data/train.csv\")\n",
    "test = pd.read_csv(\"./Data/test.csv\")\n",
    "\n",
    "\n"
   ]
  },
  {
   "cell_type": "code",
   "execution_count": 411,
   "metadata": {},
   "outputs": [],
   "source": [
    "train.Age.fillna(train.Age.mean() , inplace = True)\n",
    "train.Embarked.fillna(\"S\" , inplace =True)\n",
    "test.Age.fillna(test.Age.mean() , inplace = True)\n",
    "test.Fare.fillna(test.Fare.mean() , inplace = True)"
   ]
  },
  {
   "cell_type": "code",
   "execution_count": 412,
   "metadata": {},
   "outputs": [],
   "source": [
    "le = LabelEncoder()"
   ]
  },
  {
   "cell_type": "code",
   "execution_count": 413,
   "metadata": {},
   "outputs": [],
   "source": [
    "train.Sex = le.fit_transform(train.Sex)"
   ]
  },
  {
   "cell_type": "code",
   "execution_count": 414,
   "metadata": {},
   "outputs": [],
   "source": [
    "train_oh = pd.get_dummies(train , columns= [\"Embarked\"])"
   ]
  },
  {
   "cell_type": "code",
   "execution_count": 415,
   "metadata": {},
   "outputs": [],
   "source": [
    "features = ['Pclass', 'Sex', 'Age', 'SibSp','Parch',  'Fare', 'Embarked_C', 'Embarked_Q','Embarked_S']"
   ]
  },
  {
   "cell_type": "code",
   "execution_count": 416,
   "metadata": {},
   "outputs": [
    {
     "name": "stderr",
     "output_type": "stream",
     "text": [
      "/home/trisix/anaconda3/lib/python3.9/site-packages/pandas/core/generic.py:5516: SettingWithCopyWarning: \n",
      "A value is trying to be set on a copy of a slice from a DataFrame.\n",
      "Try using .loc[row_indexer,col_indexer] = value instead\n",
      "\n",
      "See the caveats in the documentation: https://pandas.pydata.org/pandas-docs/stable/user_guide/indexing.html#returning-a-view-versus-a-copy\n",
      "  self[name] = value\n"
     ]
    }
   ],
   "source": [
    "X_train = train_oh[features]\n",
    "y_train = train_oh.Survived\n",
    "test_oh = pd.get_dummies(test , columns= [\"Embarked\"])\n",
    "X_test = test_oh[features]\n",
    "X_test.Sex = le.fit_transform(X_test.Sex)"
   ]
  },
  {
   "cell_type": "code",
   "execution_count": 417,
   "metadata": {},
   "outputs": [],
   "source": [
    "data_number_list = []\n",
    "for i in range(0, len(X_test)):\n",
    "    data_number_list.append(i)"
   ]
  },
  {
   "cell_type": "code",
   "execution_count": 418,
   "metadata": {},
   "outputs": [],
   "source": [
    "data_df = pd.DataFrame(data_number_list)"
   ]
  },
  {
   "cell_type": "code",
   "execution_count": 419,
   "metadata": {},
   "outputs": [],
   "source": [
    "# 나무에 각자 개성 부여해서 투표하기\n",
    "for j in range(0,number_of_tree):\n",
    "\n",
    "    dt_clf = DecisionTreeClassifier(random_state=j)\n",
    "    dt_clf.fit(X_train, y_train)\n",
    "    pred_dt = dt_clf.predict(X_test)\n",
    "    data_df[j] = pred_dt"
   ]
  },
  {
   "cell_type": "code",
   "execution_count": 420,
   "metadata": {},
   "outputs": [],
   "source": [
    "data_df['sum'] = data_df.sum(axis=1)"
   ]
  },
  {
   "cell_type": "code",
   "execution_count": 421,
   "metadata": {},
   "outputs": [],
   "source": [
    "#data_df"
   ]
  },
  {
   "cell_type": "code",
   "execution_count": 422,
   "metadata": {},
   "outputs": [],
   "source": [
    "#df['Status'] = np.where(df['Salary']>=400, 'Senior', 'Junior')\n",
    "\n",
    "final_df_dt = np.where(data_df['sum']>(number_of_tree/2), 1, 0)"
   ]
  },
  {
   "cell_type": "code",
   "execution_count": 423,
   "metadata": {},
   "outputs": [],
   "source": [
    "#final_df_dt"
   ]
  },
  {
   "cell_type": "code",
   "execution_count": 424,
   "metadata": {},
   "outputs": [],
   "source": [
    "# 내가 dt 짜서 해본 결과\n",
    "submission = pd.read_csv(\"./Data/gender_submission.csv\" , index_col= \"PassengerId\")\n",
    "submission.Survived = final_df_dt\n",
    "submission.to_csv(\"./Submission/dt_ds_10_predcit_50.csv\") \n",
    "# 예측 결과 : (나무 10개) 투표수 절반 이상일 때 : \n",
    "# 예측 결과 : (나무 100개)투표수 1 이상일 때 : 0.73444, 투표수 절반 이상일 때 : 0.74401, 투표수 99 이상일 때 : 0.73684\n",
    "# 예측 결과 : (나무 1000개) 투표수 절반 이상일 때 : 0.74162\n",
    "# 예측 결과 : (나무 10000개) 투표수 절반 이상일 때 : 0.74401"
   ]
  },
  {
   "cell_type": "code",
   "execution_count": 425,
   "metadata": {},
   "outputs": [],
   "source": [
    "rf_clf = RandomForestClassifier(n_estimators = number_of_tree)\n",
    "rf_clf.fit(X_train, y_train)\n",
    "pred_rf = rf_clf.predict(X_test)\n",
    "\n",
    "submission.Survived = pred_rf\n",
    "submission.to_csv(\"./Submission/rf_ds_10_predcit.csv\") \n",
    "\n",
    "# 예측 결과 : (나무 10개) 랜덤포레스트 n_estimators 10개로 했을 때 : \n",
    "# 예측 결과 : (나무 100개) 랜덤포레스트 n_estimators 100개로 했을 때 : 0.76315\n",
    "# 예측 결과 : (나무 1000개) 랜덤포레스트 n_estimators 1000개로 했을 때 : 0.76555\n",
    "# 예측 결과 : (나무 10000개) 랜덤포레스트 n_estimators 10000개로 했을 때 : 0.76555\n",
    "\n",
    "# 최종 결과 : \n",
    "# (나무 100개) 나만의 DT : 0.74401(0.3s), 랜덤포레스트 기본값 : 0.76315(0.1s)\n",
    "# (나무 1000개) 나만의 DT : 0.74162(2.8s), 랜덤포레스트 기본값 : 0.76555(1.6s)\n",
    "# (나무 10000개) 나만의 DT : 0.74162(32.4s), 랜덤포레스트 기본값 : 0.76555(10.6s)"
   ]
  },
  {
   "cell_type": "markdown",
   "metadata": {},
   "source": []
  }
 ],
 "metadata": {
  "interpreter": {
   "hash": "778871b7b661d204b529054ec587ed6123dfdbe291371d043f8b3f0cf68d1d6a"
  },
  "kernelspec": {
   "display_name": "Python 3",
   "language": "python",
   "name": "python3"
  },
  "language_info": {
   "codemirror_mode": {
    "name": "ipython",
    "version": 3
   },
   "file_extension": ".py",
   "mimetype": "text/x-python",
   "name": "python",
   "nbconvert_exporter": "python",
   "pygments_lexer": "ipython3",
   "version": "3.8.5"
  }
 },
 "nbformat": 4,
 "nbformat_minor": 2
}
